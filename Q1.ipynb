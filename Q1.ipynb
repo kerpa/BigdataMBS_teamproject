{
 "cells": [
  {
   "cell_type": "markdown",
   "source": [
    "#  Q1. Work with the sharing bike dataset: Sharing_Bike.db"
   ],
   "metadata": {
    "collapsed": false,
    "pycharm": {
     "name": "#%% md\n"
    }
   }
  },
  {
   "cell_type": "code",
   "execution_count": 1,
   "outputs": [],
   "source": [
    "import pandas as pd\n",
    "import sqlite3"
   ],
   "metadata": {
    "collapsed": false,
    "pycharm": {
     "name": "#%%\n"
    }
   }
  },
  {
   "cell_type": "code",
   "execution_count": 2,
   "outputs": [
    {
     "data": {
      "text/plain": "            instant           hr       casual   registered          cnt\ncount   8734.000000  8734.000000  8734.000000  8734.000000  8734.000000\nmean   13012.500000    11.520151    42.679757   191.986604   234.666361\nstd     2521.432959     6.921208    56.970413   175.481637   208.910941\nmin     8646.000000     0.000000     0.000000     0.000000     1.000000\n25%    10829.250000     6.000000     5.000000    46.000000    53.000000\n50%    13012.500000    12.000000    20.000000   156.000000   191.000000\n75%    15195.750000    18.000000    60.000000   275.000000   347.000000\nmax    17379.000000    23.000000   367.000000   886.000000   977.000000",
      "text/html": "<div>\n<style scoped>\n    .dataframe tbody tr th:only-of-type {\n        vertical-align: middle;\n    }\n\n    .dataframe tbody tr th {\n        vertical-align: top;\n    }\n\n    .dataframe thead th {\n        text-align: right;\n    }\n</style>\n<table border=\"1\" class=\"dataframe\">\n  <thead>\n    <tr style=\"text-align: right;\">\n      <th></th>\n      <th>instant</th>\n      <th>hr</th>\n      <th>casual</th>\n      <th>registered</th>\n      <th>cnt</th>\n    </tr>\n  </thead>\n  <tbody>\n    <tr>\n      <th>count</th>\n      <td>8734.000000</td>\n      <td>8734.000000</td>\n      <td>8734.000000</td>\n      <td>8734.000000</td>\n      <td>8734.000000</td>\n    </tr>\n    <tr>\n      <th>mean</th>\n      <td>13012.500000</td>\n      <td>11.520151</td>\n      <td>42.679757</td>\n      <td>191.986604</td>\n      <td>234.666361</td>\n    </tr>\n    <tr>\n      <th>std</th>\n      <td>2521.432959</td>\n      <td>6.921208</td>\n      <td>56.970413</td>\n      <td>175.481637</td>\n      <td>208.910941</td>\n    </tr>\n    <tr>\n      <th>min</th>\n      <td>8646.000000</td>\n      <td>0.000000</td>\n      <td>0.000000</td>\n      <td>0.000000</td>\n      <td>1.000000</td>\n    </tr>\n    <tr>\n      <th>25%</th>\n      <td>10829.250000</td>\n      <td>6.000000</td>\n      <td>5.000000</td>\n      <td>46.000000</td>\n      <td>53.000000</td>\n    </tr>\n    <tr>\n      <th>50%</th>\n      <td>13012.500000</td>\n      <td>12.000000</td>\n      <td>20.000000</td>\n      <td>156.000000</td>\n      <td>191.000000</td>\n    </tr>\n    <tr>\n      <th>75%</th>\n      <td>15195.750000</td>\n      <td>18.000000</td>\n      <td>60.000000</td>\n      <td>275.000000</td>\n      <td>347.000000</td>\n    </tr>\n    <tr>\n      <th>max</th>\n      <td>17379.000000</td>\n      <td>23.000000</td>\n      <td>367.000000</td>\n      <td>886.000000</td>\n      <td>977.000000</td>\n    </tr>\n  </tbody>\n</table>\n</div>"
     },
     "execution_count": 2,
     "metadata": {},
     "output_type": "execute_result"
    }
   ],
   "source": [
    "conn = sqlite3.connect('dataset/Sharing_Bike.db')\n",
    "\n",
    "df = pd.read_sql_query(\"SELECT * FROM bike\", conn)\n",
    "df.describe()"
   ],
   "metadata": {
    "collapsed": false,
    "pycharm": {
     "name": "#%%\n"
    }
   }
  },
  {
   "cell_type": "markdown",
   "source": [
    "A. Considering the holidays, write a SQL code to calculate the total count of casual users and the\n",
    "total count of registered users in each holiday of 2012."
   ],
   "metadata": {
    "collapsed": false,
    "pycharm": {
     "name": "#%% md\n"
    }
   }
  },
  {
   "cell_type": "code",
   "execution_count": 3,
   "outputs": [
    {
     "data": {
      "text/plain": "   total_casual  total_registered\n0         12611             35802",
      "text/html": "<div>\n<style scoped>\n    .dataframe tbody tr th:only-of-type {\n        vertical-align: middle;\n    }\n\n    .dataframe tbody tr th {\n        vertical-align: top;\n    }\n\n    .dataframe thead th {\n        text-align: right;\n    }\n</style>\n<table border=\"1\" class=\"dataframe\">\n  <thead>\n    <tr style=\"text-align: right;\">\n      <th></th>\n      <th>total_casual</th>\n      <th>total_registered</th>\n    </tr>\n  </thead>\n  <tbody>\n    <tr>\n      <th>0</th>\n      <td>12611</td>\n      <td>35802</td>\n    </tr>\n  </tbody>\n</table>\n</div>"
     },
     "execution_count": 3,
     "metadata": {},
     "output_type": "execute_result"
    }
   ],
   "source": [
    "#a group by holidays or day is wrong because it will not give each holidays but each day of holidays.\n",
    "\n",
    "df_A = pd.read_sql_query(\"\"\"\n",
    "SELECT sum(casual) as total_casual, sum(registered) as total_registered\n",
    "FROM bike\n",
    "JOIN Calendar C on bike.dteday = C.dteday\n",
    "WHERE C.holiday = 1\n",
    "\"\"\", conn)\n",
    "\n",
    "df_A"
   ],
   "metadata": {
    "collapsed": false,
    "pycharm": {
     "name": "#%%\n"
    }
   }
  },
  {
   "cell_type": "markdown",
   "source": [
    "B. (4 pts) Considering 24 hours in a day, write a SQL code to calculate the average count of casual users\n",
    "and the average count of registered users for each hour."
   ],
   "metadata": {
    "collapsed": false,
    "pycharm": {
     "name": "#%% md\n"
    }
   }
  },
  {
   "cell_type": "code",
   "execution_count": 4,
   "outputs": [
    {
     "data": {
      "text/plain": "    hr  average_total_casual_by_hour  average_total_registered_by_hour\n0    0                            10                                53\n1    1                             7                                32\n2    2                             5                                21\n3    3                             2                                10\n4    4                             1                                 5\n5    5                             1                                23\n6    6                             4                                89\n7    7                            11                               254\n8    8                            24                               429\n9    9                            37                               236\n10  10                            56                               158\n11  11                            73                               186\n12  12                            84                               231\n13  13                            89                               227\n14  14                            93                               205\n15  15                            92                               221\n16  16                            90                               298\n17  17                            89                               483\n18  18                            72                               455\n19  19                            57                               328\n20  20                            42                               236\n21  21                            32                               177\n22  22                            25                               133\n23  23                            16                                89",
      "text/html": "<div>\n<style scoped>\n    .dataframe tbody tr th:only-of-type {\n        vertical-align: middle;\n    }\n\n    .dataframe tbody tr th {\n        vertical-align: top;\n    }\n\n    .dataframe thead th {\n        text-align: right;\n    }\n</style>\n<table border=\"1\" class=\"dataframe\">\n  <thead>\n    <tr style=\"text-align: right;\">\n      <th></th>\n      <th>hr</th>\n      <th>average_total_casual_by_hour</th>\n      <th>average_total_registered_by_hour</th>\n    </tr>\n  </thead>\n  <tbody>\n    <tr>\n      <th>0</th>\n      <td>0</td>\n      <td>10</td>\n      <td>53</td>\n    </tr>\n    <tr>\n      <th>1</th>\n      <td>1</td>\n      <td>7</td>\n      <td>32</td>\n    </tr>\n    <tr>\n      <th>2</th>\n      <td>2</td>\n      <td>5</td>\n      <td>21</td>\n    </tr>\n    <tr>\n      <th>3</th>\n      <td>3</td>\n      <td>2</td>\n      <td>10</td>\n    </tr>\n    <tr>\n      <th>4</th>\n      <td>4</td>\n      <td>1</td>\n      <td>5</td>\n    </tr>\n    <tr>\n      <th>5</th>\n      <td>5</td>\n      <td>1</td>\n      <td>23</td>\n    </tr>\n    <tr>\n      <th>6</th>\n      <td>6</td>\n      <td>4</td>\n      <td>89</td>\n    </tr>\n    <tr>\n      <th>7</th>\n      <td>7</td>\n      <td>11</td>\n      <td>254</td>\n    </tr>\n    <tr>\n      <th>8</th>\n      <td>8</td>\n      <td>24</td>\n      <td>429</td>\n    </tr>\n    <tr>\n      <th>9</th>\n      <td>9</td>\n      <td>37</td>\n      <td>236</td>\n    </tr>\n    <tr>\n      <th>10</th>\n      <td>10</td>\n      <td>56</td>\n      <td>158</td>\n    </tr>\n    <tr>\n      <th>11</th>\n      <td>11</td>\n      <td>73</td>\n      <td>186</td>\n    </tr>\n    <tr>\n      <th>12</th>\n      <td>12</td>\n      <td>84</td>\n      <td>231</td>\n    </tr>\n    <tr>\n      <th>13</th>\n      <td>13</td>\n      <td>89</td>\n      <td>227</td>\n    </tr>\n    <tr>\n      <th>14</th>\n      <td>14</td>\n      <td>93</td>\n      <td>205</td>\n    </tr>\n    <tr>\n      <th>15</th>\n      <td>15</td>\n      <td>92</td>\n      <td>221</td>\n    </tr>\n    <tr>\n      <th>16</th>\n      <td>16</td>\n      <td>90</td>\n      <td>298</td>\n    </tr>\n    <tr>\n      <th>17</th>\n      <td>17</td>\n      <td>89</td>\n      <td>483</td>\n    </tr>\n    <tr>\n      <th>18</th>\n      <td>18</td>\n      <td>72</td>\n      <td>455</td>\n    </tr>\n    <tr>\n      <th>19</th>\n      <td>19</td>\n      <td>57</td>\n      <td>328</td>\n    </tr>\n    <tr>\n      <th>20</th>\n      <td>20</td>\n      <td>42</td>\n      <td>236</td>\n    </tr>\n    <tr>\n      <th>21</th>\n      <td>21</td>\n      <td>32</td>\n      <td>177</td>\n    </tr>\n    <tr>\n      <th>22</th>\n      <td>22</td>\n      <td>25</td>\n      <td>133</td>\n    </tr>\n    <tr>\n      <th>23</th>\n      <td>23</td>\n      <td>16</td>\n      <td>89</td>\n    </tr>\n  </tbody>\n</table>\n</div>"
     },
     "execution_count": 4,
     "metadata": {},
     "output_type": "execute_result"
    }
   ],
   "source": [
    "#I use 365 instead of count(*) because it is the number of days in a year and I verified that the number of days is 365 for this database.\n",
    "\n",
    "df_B = pd.read_sql_query(\"\"\"\n",
    "SELECT hr,(sum(casual)/365) as average_total_casual_by_hour, (sum(registered)/365) as average_total_registered_by_hour\n",
    "FROM bike\n",
    "GROUP BY hr\n",
    "\"\"\", conn)\n",
    "\n",
    "df_B"
   ],
   "metadata": {
    "collapsed": false,
    "pycharm": {
     "name": "#%%\n"
    }
   }
  },
  {
   "cell_type": "markdown",
   "source": [
    "C. (4 pts) Output the top 20 dates of the highest total counts of casual users in 2012 with a SQL code."
   ],
   "metadata": {
    "collapsed": false,
    "pycharm": {
     "name": "#%% md\n"
    }
   }
  },
  {
   "cell_type": "code",
   "execution_count": 5,
   "outputs": [
    {
     "data": {
      "text/plain": "        dteday  total\n0   2012-05-19   3410\n1   2012-05-27   3283\n2   2012-04-07   3252\n3   2012-09-15   3160\n4   2012-03-17   3155\n5   2012-10-06   3031\n6   2012-06-16   2963\n7   2012-05-26   2855\n8   2012-04-15   2846\n9   2012-08-18   2827\n10  2012-10-20   2806\n11  2012-06-02   2795\n12  2012-04-14   2795\n13  2012-06-09   2708\n14  2012-05-20   2704\n15  2012-06-23   2657\n16  2012-10-27   2643\n17  2012-06-17   2634\n18  2012-05-12   2622\n19  2012-09-02   2613",
      "text/html": "<div>\n<style scoped>\n    .dataframe tbody tr th:only-of-type {\n        vertical-align: middle;\n    }\n\n    .dataframe tbody tr th {\n        vertical-align: top;\n    }\n\n    .dataframe thead th {\n        text-align: right;\n    }\n</style>\n<table border=\"1\" class=\"dataframe\">\n  <thead>\n    <tr style=\"text-align: right;\">\n      <th></th>\n      <th>dteday</th>\n      <th>total</th>\n    </tr>\n  </thead>\n  <tbody>\n    <tr>\n      <th>0</th>\n      <td>2012-05-19</td>\n      <td>3410</td>\n    </tr>\n    <tr>\n      <th>1</th>\n      <td>2012-05-27</td>\n      <td>3283</td>\n    </tr>\n    <tr>\n      <th>2</th>\n      <td>2012-04-07</td>\n      <td>3252</td>\n    </tr>\n    <tr>\n      <th>3</th>\n      <td>2012-09-15</td>\n      <td>3160</td>\n    </tr>\n    <tr>\n      <th>4</th>\n      <td>2012-03-17</td>\n      <td>3155</td>\n    </tr>\n    <tr>\n      <th>5</th>\n      <td>2012-10-06</td>\n      <td>3031</td>\n    </tr>\n    <tr>\n      <th>6</th>\n      <td>2012-06-16</td>\n      <td>2963</td>\n    </tr>\n    <tr>\n      <th>7</th>\n      <td>2012-05-26</td>\n      <td>2855</td>\n    </tr>\n    <tr>\n      <th>8</th>\n      <td>2012-04-15</td>\n      <td>2846</td>\n    </tr>\n    <tr>\n      <th>9</th>\n      <td>2012-08-18</td>\n      <td>2827</td>\n    </tr>\n    <tr>\n      <th>10</th>\n      <td>2012-10-20</td>\n      <td>2806</td>\n    </tr>\n    <tr>\n      <th>11</th>\n      <td>2012-06-02</td>\n      <td>2795</td>\n    </tr>\n    <tr>\n      <th>12</th>\n      <td>2012-04-14</td>\n      <td>2795</td>\n    </tr>\n    <tr>\n      <th>13</th>\n      <td>2012-06-09</td>\n      <td>2708</td>\n    </tr>\n    <tr>\n      <th>14</th>\n      <td>2012-05-20</td>\n      <td>2704</td>\n    </tr>\n    <tr>\n      <th>15</th>\n      <td>2012-06-23</td>\n      <td>2657</td>\n    </tr>\n    <tr>\n      <th>16</th>\n      <td>2012-10-27</td>\n      <td>2643</td>\n    </tr>\n    <tr>\n      <th>17</th>\n      <td>2012-06-17</td>\n      <td>2634</td>\n    </tr>\n    <tr>\n      <th>18</th>\n      <td>2012-05-12</td>\n      <td>2622</td>\n    </tr>\n    <tr>\n      <th>19</th>\n      <td>2012-09-02</td>\n      <td>2613</td>\n    </tr>\n  </tbody>\n</table>\n</div>"
     },
     "execution_count": 5,
     "metadata": {},
     "output_type": "execute_result"
    }
   ],
   "source": [
    "df_C = pd.read_sql_query(\"\"\"\n",
    "SELECT dteday, sum(casual) as total\n",
    "FROM bike\n",
    "GROUP BY dteday\n",
    "ORDER BY total DESC\n",
    "LIMIT 20\n",
    "\"\"\", conn)\n",
    "\n",
    "df_C"
   ],
   "metadata": {
    "collapsed": false,
    "pycharm": {
     "name": "#%%\n"
    }
   }
  }
 ],
 "metadata": {
  "kernelspec": {
   "display_name": "Python 3",
   "language": "python",
   "name": "python3"
  },
  "language_info": {
   "codemirror_mode": {
    "name": "ipython",
    "version": 2
   },
   "file_extension": ".py",
   "mimetype": "text/x-python",
   "name": "python",
   "nbconvert_exporter": "python",
   "pygments_lexer": "ipython2",
   "version": "2.7.6"
  }
 },
 "nbformat": 4,
 "nbformat_minor": 0
}