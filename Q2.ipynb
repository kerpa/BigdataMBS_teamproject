{
 "cells": [
  {
   "cell_type": "markdown",
   "source": [
    "#  Q2. Work with the real estate dataset, realestate.xlsx or realestate.csv"
   ],
   "metadata": {
    "collapsed": false,
    "pycharm": {
     "name": "#%% md\n"
    }
   }
  },
  {
   "cell_type": "code",
   "execution_count": 1,
   "outputs": [],
   "source": [
    "import pandas as pd\n",
    "import itertools\n",
    "import seaborn as sns\n",
    "import statsmodels.api as sm"
   ],
   "metadata": {
    "collapsed": false,
    "pycharm": {
     "name": "#%%\n"
    }
   }
  },
  {
   "cell_type": "markdown",
   "source": [
    "### A. (4 pts) You are asked to predict Sale Price, what are your reasonable choices from the dataset? Please\n",
    "### report the total amounts of reasonable choices in the report, write a python code to express all your\n",
    "### reasonable choices in regression formula.\n",
    "\n",
    "Note: reasonable choices refer to considering all possible combinations of independent variables."
   ],
   "metadata": {
    "collapsed": false,
    "pycharm": {
     "name": "#%% md\n"
    }
   }
  },
  {
   "cell_type": "markdown",
   "source": [
    "I'll answer this question with two possible algorithms"
   ],
   "metadata": {
    "collapsed": false,
    "pycharm": {
     "name": "#%% md\n"
    }
   }
  },
  {
   "cell_type": "code",
   "execution_count": 2,
   "outputs": [
    {
     "name": "stdout",
     "output_type": "stream",
     "text": [
      "[[], ['A'], ['B'], ['B', 'A'], ['C'], ['C', 'A'], ['C', 'B'], ['C', 'B', 'A'], ['D'], ['D', 'A'], ['D', 'B'], ['D', 'B', 'A'], ['D', 'C'], ['D', 'C', 'A'], ['D', 'C', 'B'], ['D', 'C', 'B', 'A']]\n",
      "The number of total combination possible is: 16\n"
     ]
    }
   ],
   "source": [
    "#Recursive function to find all possible combinations of independent variables\n",
    "def combs(a):\n",
    "    if len(a) == 0:\n",
    "        return [[]]\n",
    "    cs = []\n",
    "    for c in combs(a[1:]):\n",
    "        cs += [c, c+[a[0]]]\n",
    "    return cs\n",
    "\n",
    "print(combs(['A', 'B', 'C', 'D']))\n",
    "print('The number of total combination possible is:',len(combs(['A', 'B', 'C', 'D'])))"
   ],
   "metadata": {
    "collapsed": false,
    "pycharm": {
     "name": "#%%\n"
    }
   }
  },
  {
   "cell_type": "code",
   "execution_count": 3,
   "outputs": [
    {
     "name": "stdout",
     "output_type": "stream",
     "text": [
      "[[()], [('A',), ('B',), ('C',), ('D',)], [('A', 'B'), ('A', 'C'), ('A', 'D'), ('B', 'C'), ('B', 'D'), ('C', 'D')], [('A', 'B', 'C'), ('A', 'B', 'D'), ('A', 'C', 'D'), ('B', 'C', 'D')], [('A', 'B', 'C', 'D')]]\n",
      "The number of total combinations possible is: 16\n"
     ]
    }
   ],
   "source": [
    "#Iterative function to find all possible combinations of independent variables\n",
    "list_A = ['A', 'B', 'C', 'D']\n",
    "list_combinations = []\n",
    "number_combinations = 0\n",
    "for i in range(len(list_A)+1):\n",
    "    list_combinations.append(list(itertools.combinations(list_A, i)))\n",
    "\n",
    "for i in range(len(list_combinations)):\n",
    "    number_combinations += len(list_combinations[i])\n",
    "\n",
    "print(list_combinations)\n",
    "print('The number of total combinations possible is:',number_combinations)"
   ],
   "metadata": {
    "collapsed": false,
    "pycharm": {
     "name": "#%%\n"
    }
   }
  },
  {
   "cell_type": "code",
   "execution_count": 4,
   "outputs": [
    {
     "name": "stdout",
     "output_type": "stream",
     "text": [
      "[[], ['Size'], ['Beds'], ['Beds', 'Size'], ['Baths'], ['Baths', 'Size'], ['Baths', 'Beds'], ['Baths', 'Beds', 'Size'], ['Num_Garage'], ['Num_Garage', 'Size'], ['Num_Garage', 'Beds'], ['Num_Garage', 'Beds', 'Size'], ['Num_Garage', 'Baths'], ['Num_Garage', 'Baths', 'Size'], ['Num_Garage', 'Baths', 'Beds'], ['Num_Garage', 'Baths', 'Beds', 'Size'], ['Year'], ['Year', 'Size'], ['Year', 'Beds'], ['Year', 'Beds', 'Size'], ['Year', 'Baths'], ['Year', 'Baths', 'Size'], ['Year', 'Baths', 'Beds'], ['Year', 'Baths', 'Beds', 'Size'], ['Year', 'Num_Garage'], ['Year', 'Num_Garage', 'Size'], ['Year', 'Num_Garage', 'Beds'], ['Year', 'Num_Garage', 'Beds', 'Size'], ['Year', 'Num_Garage', 'Baths'], ['Year', 'Num_Garage', 'Baths', 'Size'], ['Year', 'Num_Garage', 'Baths', 'Beds'], ['Year', 'Num_Garage', 'Baths', 'Beds', 'Size'], ['Highway'], ['Highway', 'Size'], ['Highway', 'Beds'], ['Highway', 'Beds', 'Size'], ['Highway', 'Baths'], ['Highway', 'Baths', 'Size'], ['Highway', 'Baths', 'Beds'], ['Highway', 'Baths', 'Beds', 'Size'], ['Highway', 'Num_Garage'], ['Highway', 'Num_Garage', 'Size'], ['Highway', 'Num_Garage', 'Beds'], ['Highway', 'Num_Garage', 'Beds', 'Size'], ['Highway', 'Num_Garage', 'Baths'], ['Highway', 'Num_Garage', 'Baths', 'Size'], ['Highway', 'Num_Garage', 'Baths', 'Beds'], ['Highway', 'Num_Garage', 'Baths', 'Beds', 'Size'], ['Highway', 'Year'], ['Highway', 'Year', 'Size'], ['Highway', 'Year', 'Beds'], ['Highway', 'Year', 'Beds', 'Size'], ['Highway', 'Year', 'Baths'], ['Highway', 'Year', 'Baths', 'Size'], ['Highway', 'Year', 'Baths', 'Beds'], ['Highway', 'Year', 'Baths', 'Beds', 'Size'], ['Highway', 'Year', 'Num_Garage'], ['Highway', 'Year', 'Num_Garage', 'Size'], ['Highway', 'Year', 'Num_Garage', 'Beds'], ['Highway', 'Year', 'Num_Garage', 'Beds', 'Size'], ['Highway', 'Year', 'Num_Garage', 'Baths'], ['Highway', 'Year', 'Num_Garage', 'Baths', 'Size'], ['Highway', 'Year', 'Num_Garage', 'Baths', 'Beds'], ['Highway', 'Year', 'Num_Garage', 'Baths', 'Beds', 'Size'], ['Aircondition'], ['Aircondition', 'Size'], ['Aircondition', 'Beds'], ['Aircondition', 'Beds', 'Size'], ['Aircondition', 'Baths'], ['Aircondition', 'Baths', 'Size'], ['Aircondition', 'Baths', 'Beds'], ['Aircondition', 'Baths', 'Beds', 'Size'], ['Aircondition', 'Num_Garage'], ['Aircondition', 'Num_Garage', 'Size'], ['Aircondition', 'Num_Garage', 'Beds'], ['Aircondition', 'Num_Garage', 'Beds', 'Size'], ['Aircondition', 'Num_Garage', 'Baths'], ['Aircondition', 'Num_Garage', 'Baths', 'Size'], ['Aircondition', 'Num_Garage', 'Baths', 'Beds'], ['Aircondition', 'Num_Garage', 'Baths', 'Beds', 'Size'], ['Aircondition', 'Year'], ['Aircondition', 'Year', 'Size'], ['Aircondition', 'Year', 'Beds'], ['Aircondition', 'Year', 'Beds', 'Size'], ['Aircondition', 'Year', 'Baths'], ['Aircondition', 'Year', 'Baths', 'Size'], ['Aircondition', 'Year', 'Baths', 'Beds'], ['Aircondition', 'Year', 'Baths', 'Beds', 'Size'], ['Aircondition', 'Year', 'Num_Garage'], ['Aircondition', 'Year', 'Num_Garage', 'Size'], ['Aircondition', 'Year', 'Num_Garage', 'Beds'], ['Aircondition', 'Year', 'Num_Garage', 'Beds', 'Size'], ['Aircondition', 'Year', 'Num_Garage', 'Baths'], ['Aircondition', 'Year', 'Num_Garage', 'Baths', 'Size'], ['Aircondition', 'Year', 'Num_Garage', 'Baths', 'Beds'], ['Aircondition', 'Year', 'Num_Garage', 'Baths', 'Beds', 'Size'], ['Aircondition', 'Highway'], ['Aircondition', 'Highway', 'Size'], ['Aircondition', 'Highway', 'Beds'], ['Aircondition', 'Highway', 'Beds', 'Size'], ['Aircondition', 'Highway', 'Baths'], ['Aircondition', 'Highway', 'Baths', 'Size'], ['Aircondition', 'Highway', 'Baths', 'Beds'], ['Aircondition', 'Highway', 'Baths', 'Beds', 'Size'], ['Aircondition', 'Highway', 'Num_Garage'], ['Aircondition', 'Highway', 'Num_Garage', 'Size'], ['Aircondition', 'Highway', 'Num_Garage', 'Beds'], ['Aircondition', 'Highway', 'Num_Garage', 'Beds', 'Size'], ['Aircondition', 'Highway', 'Num_Garage', 'Baths'], ['Aircondition', 'Highway', 'Num_Garage', 'Baths', 'Size'], ['Aircondition', 'Highway', 'Num_Garage', 'Baths', 'Beds'], ['Aircondition', 'Highway', 'Num_Garage', 'Baths', 'Beds', 'Size'], ['Aircondition', 'Highway', 'Year'], ['Aircondition', 'Highway', 'Year', 'Size'], ['Aircondition', 'Highway', 'Year', 'Beds'], ['Aircondition', 'Highway', 'Year', 'Beds', 'Size'], ['Aircondition', 'Highway', 'Year', 'Baths'], ['Aircondition', 'Highway', 'Year', 'Baths', 'Size'], ['Aircondition', 'Highway', 'Year', 'Baths', 'Beds'], ['Aircondition', 'Highway', 'Year', 'Baths', 'Beds', 'Size'], ['Aircondition', 'Highway', 'Year', 'Num_Garage'], ['Aircondition', 'Highway', 'Year', 'Num_Garage', 'Size'], ['Aircondition', 'Highway', 'Year', 'Num_Garage', 'Beds'], ['Aircondition', 'Highway', 'Year', 'Num_Garage', 'Beds', 'Size'], ['Aircondition', 'Highway', 'Year', 'Num_Garage', 'Baths'], ['Aircondition', 'Highway', 'Year', 'Num_Garage', 'Baths', 'Size'], ['Aircondition', 'Highway', 'Year', 'Num_Garage', 'Baths', 'Beds'], ['Aircondition', 'Highway', 'Year', 'Num_Garage', 'Baths', 'Beds', 'Size'], ['Swimmingpool'], ['Swimmingpool', 'Size'], ['Swimmingpool', 'Beds'], ['Swimmingpool', 'Beds', 'Size'], ['Swimmingpool', 'Baths'], ['Swimmingpool', 'Baths', 'Size'], ['Swimmingpool', 'Baths', 'Beds'], ['Swimmingpool', 'Baths', 'Beds', 'Size'], ['Swimmingpool', 'Num_Garage'], ['Swimmingpool', 'Num_Garage', 'Size'], ['Swimmingpool', 'Num_Garage', 'Beds'], ['Swimmingpool', 'Num_Garage', 'Beds', 'Size'], ['Swimmingpool', 'Num_Garage', 'Baths'], ['Swimmingpool', 'Num_Garage', 'Baths', 'Size'], ['Swimmingpool', 'Num_Garage', 'Baths', 'Beds'], ['Swimmingpool', 'Num_Garage', 'Baths', 'Beds', 'Size'], ['Swimmingpool', 'Year'], ['Swimmingpool', 'Year', 'Size'], ['Swimmingpool', 'Year', 'Beds'], ['Swimmingpool', 'Year', 'Beds', 'Size'], ['Swimmingpool', 'Year', 'Baths'], ['Swimmingpool', 'Year', 'Baths', 'Size'], ['Swimmingpool', 'Year', 'Baths', 'Beds'], ['Swimmingpool', 'Year', 'Baths', 'Beds', 'Size'], ['Swimmingpool', 'Year', 'Num_Garage'], ['Swimmingpool', 'Year', 'Num_Garage', 'Size'], ['Swimmingpool', 'Year', 'Num_Garage', 'Beds'], ['Swimmingpool', 'Year', 'Num_Garage', 'Beds', 'Size'], ['Swimmingpool', 'Year', 'Num_Garage', 'Baths'], ['Swimmingpool', 'Year', 'Num_Garage', 'Baths', 'Size'], ['Swimmingpool', 'Year', 'Num_Garage', 'Baths', 'Beds'], ['Swimmingpool', 'Year', 'Num_Garage', 'Baths', 'Beds', 'Size'], ['Swimmingpool', 'Highway'], ['Swimmingpool', 'Highway', 'Size'], ['Swimmingpool', 'Highway', 'Beds'], ['Swimmingpool', 'Highway', 'Beds', 'Size'], ['Swimmingpool', 'Highway', 'Baths'], ['Swimmingpool', 'Highway', 'Baths', 'Size'], ['Swimmingpool', 'Highway', 'Baths', 'Beds'], ['Swimmingpool', 'Highway', 'Baths', 'Beds', 'Size'], ['Swimmingpool', 'Highway', 'Num_Garage'], ['Swimmingpool', 'Highway', 'Num_Garage', 'Size'], ['Swimmingpool', 'Highway', 'Num_Garage', 'Beds'], ['Swimmingpool', 'Highway', 'Num_Garage', 'Beds', 'Size'], ['Swimmingpool', 'Highway', 'Num_Garage', 'Baths'], ['Swimmingpool', 'Highway', 'Num_Garage', 'Baths', 'Size'], ['Swimmingpool', 'Highway', 'Num_Garage', 'Baths', 'Beds'], ['Swimmingpool', 'Highway', 'Num_Garage', 'Baths', 'Beds', 'Size'], ['Swimmingpool', 'Highway', 'Year'], ['Swimmingpool', 'Highway', 'Year', 'Size'], ['Swimmingpool', 'Highway', 'Year', 'Beds'], ['Swimmingpool', 'Highway', 'Year', 'Beds', 'Size'], ['Swimmingpool', 'Highway', 'Year', 'Baths'], ['Swimmingpool', 'Highway', 'Year', 'Baths', 'Size'], ['Swimmingpool', 'Highway', 'Year', 'Baths', 'Beds'], ['Swimmingpool', 'Highway', 'Year', 'Baths', 'Beds', 'Size'], ['Swimmingpool', 'Highway', 'Year', 'Num_Garage'], ['Swimmingpool', 'Highway', 'Year', 'Num_Garage', 'Size'], ['Swimmingpool', 'Highway', 'Year', 'Num_Garage', 'Beds'], ['Swimmingpool', 'Highway', 'Year', 'Num_Garage', 'Beds', 'Size'], ['Swimmingpool', 'Highway', 'Year', 'Num_Garage', 'Baths'], ['Swimmingpool', 'Highway', 'Year', 'Num_Garage', 'Baths', 'Size'], ['Swimmingpool', 'Highway', 'Year', 'Num_Garage', 'Baths', 'Beds'], ['Swimmingpool', 'Highway', 'Year', 'Num_Garage', 'Baths', 'Beds', 'Size'], ['Swimmingpool', 'Aircondition'], ['Swimmingpool', 'Aircondition', 'Size'], ['Swimmingpool', 'Aircondition', 'Beds'], ['Swimmingpool', 'Aircondition', 'Beds', 'Size'], ['Swimmingpool', 'Aircondition', 'Baths'], ['Swimmingpool', 'Aircondition', 'Baths', 'Size'], ['Swimmingpool', 'Aircondition', 'Baths', 'Beds'], ['Swimmingpool', 'Aircondition', 'Baths', 'Beds', 'Size'], ['Swimmingpool', 'Aircondition', 'Num_Garage'], ['Swimmingpool', 'Aircondition', 'Num_Garage', 'Size'], ['Swimmingpool', 'Aircondition', 'Num_Garage', 'Beds'], ['Swimmingpool', 'Aircondition', 'Num_Garage', 'Beds', 'Size'], ['Swimmingpool', 'Aircondition', 'Num_Garage', 'Baths'], ['Swimmingpool', 'Aircondition', 'Num_Garage', 'Baths', 'Size'], ['Swimmingpool', 'Aircondition', 'Num_Garage', 'Baths', 'Beds'], ['Swimmingpool', 'Aircondition', 'Num_Garage', 'Baths', 'Beds', 'Size'], ['Swimmingpool', 'Aircondition', 'Year'], ['Swimmingpool', 'Aircondition', 'Year', 'Size'], ['Swimmingpool', 'Aircondition', 'Year', 'Beds'], ['Swimmingpool', 'Aircondition', 'Year', 'Beds', 'Size'], ['Swimmingpool', 'Aircondition', 'Year', 'Baths'], ['Swimmingpool', 'Aircondition', 'Year', 'Baths', 'Size'], ['Swimmingpool', 'Aircondition', 'Year', 'Baths', 'Beds'], ['Swimmingpool', 'Aircondition', 'Year', 'Baths', 'Beds', 'Size'], ['Swimmingpool', 'Aircondition', 'Year', 'Num_Garage'], ['Swimmingpool', 'Aircondition', 'Year', 'Num_Garage', 'Size'], ['Swimmingpool', 'Aircondition', 'Year', 'Num_Garage', 'Beds'], ['Swimmingpool', 'Aircondition', 'Year', 'Num_Garage', 'Beds', 'Size'], ['Swimmingpool', 'Aircondition', 'Year', 'Num_Garage', 'Baths'], ['Swimmingpool', 'Aircondition', 'Year', 'Num_Garage', 'Baths', 'Size'], ['Swimmingpool', 'Aircondition', 'Year', 'Num_Garage', 'Baths', 'Beds'], ['Swimmingpool', 'Aircondition', 'Year', 'Num_Garage', 'Baths', 'Beds', 'Size'], ['Swimmingpool', 'Aircondition', 'Highway'], ['Swimmingpool', 'Aircondition', 'Highway', 'Size'], ['Swimmingpool', 'Aircondition', 'Highway', 'Beds'], ['Swimmingpool', 'Aircondition', 'Highway', 'Beds', 'Size'], ['Swimmingpool', 'Aircondition', 'Highway', 'Baths'], ['Swimmingpool', 'Aircondition', 'Highway', 'Baths', 'Size'], ['Swimmingpool', 'Aircondition', 'Highway', 'Baths', 'Beds'], ['Swimmingpool', 'Aircondition', 'Highway', 'Baths', 'Beds', 'Size'], ['Swimmingpool', 'Aircondition', 'Highway', 'Num_Garage'], ['Swimmingpool', 'Aircondition', 'Highway', 'Num_Garage', 'Size'], ['Swimmingpool', 'Aircondition', 'Highway', 'Num_Garage', 'Beds'], ['Swimmingpool', 'Aircondition', 'Highway', 'Num_Garage', 'Beds', 'Size'], ['Swimmingpool', 'Aircondition', 'Highway', 'Num_Garage', 'Baths'], ['Swimmingpool', 'Aircondition', 'Highway', 'Num_Garage', 'Baths', 'Size'], ['Swimmingpool', 'Aircondition', 'Highway', 'Num_Garage', 'Baths', 'Beds'], ['Swimmingpool', 'Aircondition', 'Highway', 'Num_Garage', 'Baths', 'Beds', 'Size'], ['Swimmingpool', 'Aircondition', 'Highway', 'Year'], ['Swimmingpool', 'Aircondition', 'Highway', 'Year', 'Size'], ['Swimmingpool', 'Aircondition', 'Highway', 'Year', 'Beds'], ['Swimmingpool', 'Aircondition', 'Highway', 'Year', 'Beds', 'Size'], ['Swimmingpool', 'Aircondition', 'Highway', 'Year', 'Baths'], ['Swimmingpool', 'Aircondition', 'Highway', 'Year', 'Baths', 'Size'], ['Swimmingpool', 'Aircondition', 'Highway', 'Year', 'Baths', 'Beds'], ['Swimmingpool', 'Aircondition', 'Highway', 'Year', 'Baths', 'Beds', 'Size'], ['Swimmingpool', 'Aircondition', 'Highway', 'Year', 'Num_Garage'], ['Swimmingpool', 'Aircondition', 'Highway', 'Year', 'Num_Garage', 'Size'], ['Swimmingpool', 'Aircondition', 'Highway', 'Year', 'Num_Garage', 'Beds'], ['Swimmingpool', 'Aircondition', 'Highway', 'Year', 'Num_Garage', 'Beds', 'Size'], ['Swimmingpool', 'Aircondition', 'Highway', 'Year', 'Num_Garage', 'Baths'], ['Swimmingpool', 'Aircondition', 'Highway', 'Year', 'Num_Garage', 'Baths', 'Size'], ['Swimmingpool', 'Aircondition', 'Highway', 'Year', 'Num_Garage', 'Baths', 'Beds'], ['Swimmingpool', 'Aircondition', 'Highway', 'Year', 'Num_Garage', 'Baths', 'Beds', 'Size']]\n"
     ]
    }
   ],
   "source": [
    "#I'll use the recursive method to find all possible combinations of independent variables\n",
    "list_independent_variables = ['Size', 'Beds', 'Baths', 'Num_Garage','Year','Highway','Aircondition','Swimmingpool']\n",
    "\n",
    "print(combs(list_independent_variables))"
   ],
   "metadata": {
    "collapsed": false,
    "pycharm": {
     "name": "#%%\n"
    }
   }
  },
  {
   "cell_type": "code",
   "execution_count": 5,
   "outputs": [
    {
     "name": "stdout",
     "output_type": "stream",
     "text": [
      "The number of total combinations possible is: 255\n"
     ]
    }
   ],
   "source": [
    "print('The number of total combinations possible is:',len(combs(list_independent_variables))-1)\n",
    "# we subtract 1 to the number because the first element is null."
   ],
   "metadata": {
    "collapsed": false,
    "pycharm": {
     "name": "#%%\n"
    }
   }
  },
  {
   "cell_type": "markdown",
   "source": [
    "---"
   ],
   "metadata": {
    "collapsed": false,
    "pycharm": {
     "name": "#%% md\n"
    }
   }
  },
  {
   "cell_type": "markdown",
   "source": [
    "### B. (4 pts) To avoid overfitting, we would set some constraints when training the model. Please write a\n",
    "### python code to find the best linear regression with the following two constraints and export the\n",
    "### regression summary to Q2_b.txt:\n",
    "1. Highway should be one of the independent variables.\n",
    "2. The total number of independent variables of the model should not exceed 4"
   ],
   "metadata": {
    "collapsed": false,
    "pycharm": {
     "name": "#%% md\n"
    }
   }
  },
  {
   "cell_type": "code",
   "execution_count": 6,
   "outputs": [
    {
     "name": "stdout",
     "output_type": "stream",
     "text": [
      "<class 'pandas.core.frame.DataFrame'>\n",
      "RangeIndex: 521 entries, 0 to 520\n",
      "Data columns (total 9 columns):\n",
      " #   Column        Non-Null Count  Dtype  \n",
      "---  ------        --------------  -----  \n",
      " 0   SalePrice     521 non-null    float64\n",
      " 1   Size          521 non-null    float64\n",
      " 2   Beds          521 non-null    int64  \n",
      " 3   Baths         521 non-null    int64  \n",
      " 4   Num_Garage    521 non-null    int64  \n",
      " 5   Year          521 non-null    int64  \n",
      " 6   Highway       521 non-null    object \n",
      " 7   Aircondition  521 non-null    object \n",
      " 8   SwimmingPool  521 non-null    object \n",
      "dtypes: float64(2), int64(4), object(3)\n",
      "memory usage: 36.8+ KB\n"
     ]
    }
   ],
   "source": [
    "#Load the dataset\n",
    "df_realstate = pd.read_csv('dataset/Realstate.csv')\n",
    "df_realstate.info()"
   ],
   "metadata": {
    "collapsed": false,
    "pycharm": {
     "name": "#%%\n"
    }
   }
  },
  {
   "cell_type": "markdown",
   "source": [
    "It is important in the case of Linear regression to look at the correlation between the independent variables and the dependent variable, and to make sure that the independent variables are not correlated with each other.\n",
    "To achieve this, we can use the following code to plot the correlation between the independent variables and the dependent variable."
   ],
   "metadata": {
    "collapsed": false,
    "pycharm": {
     "name": "#%% md\n"
    }
   }
  },
  {
   "cell_type": "code",
   "execution_count": 7,
   "outputs": [
    {
     "data": {
      "text/plain": "<AxesSubplot:>"
     },
     "execution_count": 7,
     "metadata": {},
     "output_type": "execute_result"
    },
    {
     "data": {
      "text/plain": "<Figure size 432x288 with 2 Axes>",
      "image/png": "[encoded data removed]"
     },
     "metadata": {},
     "output_type": "display_data"
    }
   ],
   "source": [
    "# correlation matrix with sns.heatmap\n",
    "corr_matrix = df_realstate.corr()\n",
    "sns.heatmap(corr_matrix, annot=True, cmap='Reds')"
   ],
   "metadata": {
    "collapsed": false,
    "pycharm": {
     "name": "#%%\n"
    }
   }
  },
  {
   "cell_type": "markdown",
   "source": [
    "In this case I'll use the iterative function to find out the possible solution among combinations.\n",
    "\n",
    "I'll drop Year because it is more complex to use it in this case, and we have enough other independent variables.\n",
    "We could have used the following code block to transform the year into an independent variable usable in the regression model."
   ],
   "metadata": {
    "collapsed": false,
    "pycharm": {
     "name": "#%% md\n"
    }
   }
  },
  {
   "cell_type": "markdown",
   "source": [
    "~~~\n",
    "import datetime\n",
    "data_df['conv_date'] = pd.to_datetime(data_df.date, format=\"%Y-%M-%D\")\n",
    "data_df['conv_date'] = data_df['conv_date'].map(datetime.datetime.toordinal)\n",
    "~~~"
   ],
   "metadata": {
    "collapsed": false,
    "pycharm": {
     "name": "#%% md\n"
    }
   }
  },
  {
   "cell_type": "markdown",
   "source": [
    "We create the combination list including Highway and the rest of independent variables.\n",
    "Highway is the independent variable we want to use in every combination.\n",
    "Our maximum number of independent variables is 4."
   ],
   "metadata": {
    "collapsed": false,
    "pycharm": {
     "name": "#%% md\n"
    }
   }
  },
  {
   "cell_type": "code",
   "execution_count": 8,
   "outputs": [],
   "source": [
    "list_independent_variables = ['Size', 'Beds', 'Baths', 'Num_Garage','Aircondition','SwimmingPool']\n",
    "list_combinations_highway = []\n",
    "number_combinations = 0\n",
    "\n",
    "for i in range(4):\n",
    "    list_combinations_highway.append(list(itertools.combinations(list_independent_variables,i)))\n",
    "\n",
    "for i in range(len(list_combinations_highway)):\n",
    "    for j in range(len(list_combinations_highway[i])):\n",
    "        list_combinations_highway[i][j] = list(list_combinations_highway[i][j])\n",
    "\n",
    "for i in range(len(list_combinations_highway)):\n",
    "    for j in range(len(list_combinations_highway[i])):\n",
    "        list_combinations_highway[i][j].append('Highway')\n",
    "\n",
    "#Drop the first item of the list because we don't need Highway alone\n",
    "list_combinations_highway = list_combinations_highway[1:]\n",
    "\n",
    "for i in range(len(list_combinations_highway)):\n",
    "    number_combinations += len(list_combinations_highway[i])"
   ],
   "metadata": {
    "collapsed": false,
    "pycharm": {
     "name": "#%%\n"
    }
   }
  },
  {
   "cell_type": "code",
   "execution_count": 9,
   "outputs": [
    {
     "name": "stdout",
     "output_type": "stream",
     "text": [
      "[[['Size', 'Highway'], ['Beds', 'Highway'], ['Baths', 'Highway'], ['Num_Garage', 'Highway'], ['Aircondition', 'Highway'], ['SwimmingPool', 'Highway']], [['Size', 'Beds', 'Highway'], ['Size', 'Baths', 'Highway'], ['Size', 'Num_Garage', 'Highway'], ['Size', 'Aircondition', 'Highway'], ['Size', 'SwimmingPool', 'Highway'], ['Beds', 'Baths', 'Highway'], ['Beds', 'Num_Garage', 'Highway'], ['Beds', 'Aircondition', 'Highway'], ['Beds', 'SwimmingPool', 'Highway'], ['Baths', 'Num_Garage', 'Highway'], ['Baths', 'Aircondition', 'Highway'], ['Baths', 'SwimmingPool', 'Highway'], ['Num_Garage', 'Aircondition', 'Highway'], ['Num_Garage', 'SwimmingPool', 'Highway'], ['Aircondition', 'SwimmingPool', 'Highway']], [['Size', 'Beds', 'Baths', 'Highway'], ['Size', 'Beds', 'Num_Garage', 'Highway'], ['Size', 'Beds', 'Aircondition', 'Highway'], ['Size', 'Beds', 'SwimmingPool', 'Highway'], ['Size', 'Baths', 'Num_Garage', 'Highway'], ['Size', 'Baths', 'Aircondition', 'Highway'], ['Size', 'Baths', 'SwimmingPool', 'Highway'], ['Size', 'Num_Garage', 'Aircondition', 'Highway'], ['Size', 'Num_Garage', 'SwimmingPool', 'Highway'], ['Size', 'Aircondition', 'SwimmingPool', 'Highway'], ['Beds', 'Baths', 'Num_Garage', 'Highway'], ['Beds', 'Baths', 'Aircondition', 'Highway'], ['Beds', 'Baths', 'SwimmingPool', 'Highway'], ['Beds', 'Num_Garage', 'Aircondition', 'Highway'], ['Beds', 'Num_Garage', 'SwimmingPool', 'Highway'], ['Beds', 'Aircondition', 'SwimmingPool', 'Highway'], ['Baths', 'Num_Garage', 'Aircondition', 'Highway'], ['Baths', 'Num_Garage', 'SwimmingPool', 'Highway'], ['Baths', 'Aircondition', 'SwimmingPool', 'Highway'], ['Num_Garage', 'Aircondition', 'SwimmingPool', 'Highway']]]\n"
     ]
    }
   ],
   "source": [
    "#This list will be the combinations used\n",
    "print(list_combinations_highway)"
   ],
   "metadata": {
    "collapsed": false,
    "pycharm": {
     "name": "#%%\n"
    }
   }
  },
  {
   "cell_type": "code",
   "execution_count": 10,
   "outputs": [
    {
     "name": "stdout",
     "output_type": "stream",
     "text": [
      "The number of total combinations possible is: 41\n"
     ]
    }
   ],
   "source": [
    "print('The number of total combinations possible is:',number_combinations)"
   ],
   "metadata": {
    "collapsed": false,
    "pycharm": {
     "name": "#%%\n"
    }
   }
  },
  {
   "cell_type": "markdown",
   "source": [
    "By looking at the head of the dataset we see that the column 'Highway', 'Aircondition' and 'SwimmingPool' are not usable in this current form."
   ],
   "metadata": {
    "collapsed": false,
    "pycharm": {
     "name": "#%% md\n"
    }
   }
  },
  {
   "cell_type": "code",
   "execution_count": 11,
   "outputs": [
    {
     "data": {
      "text/plain": "     SalePrice   Size  Beds  Baths  Num_Garage  Year  Highway  Aircondition  \\\n0        360.0  3.032     4      4           2  1972        0             1   \n1        340.0  2.058     4      2           2  1976        0             1   \n2        250.0  1.780     4      3           2  1980        0             1   \n3        205.5  1.638     4      2           2  1963        0             1   \n4        275.5  2.196     4      3           2  1968        0             1   \n..         ...    ...   ...    ...         ...   ...      ...           ...   \n516      137.0  1.655     2      1           1  1935        0             0   \n517      185.0  1.944     3      2           2  1939        0             1   \n518      133.5  1.922     3      1           2  1950        0             0   \n519      124.0  1.480     3      2           2  1953        0             1   \n520       95.5  1.184     2      1           1  1951        0             0   \n\n     SwimmingPool  \n0               0  \n1               0  \n2               0  \n3               0  \n4               0  \n..            ...  \n516             0  \n517             0  \n518             0  \n519             0  \n520             0  \n\n[521 rows x 9 columns]",
      "text/html": "<div>\n<style scoped>\n    .dataframe tbody tr th:only-of-type {\n        vertical-align: middle;\n    }\n\n    .dataframe tbody tr th {\n        vertical-align: top;\n    }\n\n    .dataframe thead th {\n        text-align: right;\n    }\n</style>\n<table border=\"1\" class=\"dataframe\">\n  <thead>\n    <tr style=\"text-align: right;\">\n      <th></th>\n      <th>SalePrice</th>\n      <th>Size</th>\n      <th>Beds</th>\n      <th>Baths</th>\n      <th>Num_Garage</th>\n      <th>Year</th>\n      <th>Highway</th>\n      <th>Aircondition</th>\n      <th>SwimmingPool</th>\n    </tr>\n  </thead>\n  <tbody>\n    <tr>\n      <th>0</th>\n      <td>360.0</td>\n      <td>3.032</td>\n      <td>4</td>\n      <td>4</td>\n      <td>2</td>\n      <td>1972</td>\n      <td>0</td>\n      <td>1</td>\n      <td>0</td>\n    </tr>\n    <tr>\n      <th>1</th>\n      <td>340.0</td>\n      <td>2.058</td>\n      <td>4</td>\n      <td>2</td>\n      <td>2</td>\n      <td>1976</td>\n      <td>0</td>\n      <td>1</td>\n      <td>0</td>\n    </tr>\n    <tr>\n      <th>2</th>\n      <td>250.0</td>\n      <td>1.780</td>\n      <td>4</td>\n      <td>3</td>\n      <td>2</td>\n      <td>1980</td>\n      <td>0</td>\n      <td>1</td>\n      <td>0</td>\n    </tr>\n    <tr>\n      <th>3</th>\n      <td>205.5</td>\n      <td>1.638</td>\n      <td>4</td>\n      <td>2</td>\n      <td>2</td>\n      <td>1963</td>\n      <td>0</td>\n      <td>1</td>\n      <td>0</td>\n    </tr>\n    <tr>\n      <th>4</th>\n      <td>275.5</td>\n      <td>2.196</td>\n      <td>4</td>\n      <td>3</td>\n      <td>2</td>\n      <td>1968</td>\n      <td>0</td>\n      <td>1</td>\n      <td>0</td>\n    </tr>\n    <tr>\n      <th>...</th>\n      <td>...</td>\n      <td>...</td>\n      <td>...</td>\n      <td>...</td>\n      <td>...</td>\n      <td>...</td>\n      <td>...</td>\n      <td>...</td>\n      <td>...</td>\n    </tr>\n    <tr>\n      <th>516</th>\n      <td>137.0</td>\n      <td>1.655</td>\n      <td>2</td>\n      <td>1</td>\n      <td>1</td>\n      <td>1935</td>\n      <td>0</td>\n      <td>0</td>\n      <td>0</td>\n    </tr>\n    <tr>\n      <th>517</th>\n      <td>185.0</td>\n      <td>1.944</td>\n      <td>3</td>\n      <td>2</td>\n      <td>2</td>\n      <td>1939</td>\n      <td>0</td>\n      <td>1</td>\n      <td>0</td>\n    </tr>\n    <tr>\n      <th>518</th>\n      <td>133.5</td>\n      <td>1.922</td>\n      <td>3</td>\n      <td>1</td>\n      <td>2</td>\n      <td>1950</td>\n      <td>0</td>\n      <td>0</td>\n      <td>0</td>\n    </tr>\n    <tr>\n      <th>519</th>\n      <td>124.0</td>\n      <td>1.480</td>\n      <td>3</td>\n      <td>2</td>\n      <td>2</td>\n      <td>1953</td>\n      <td>0</td>\n      <td>1</td>\n      <td>0</td>\n    </tr>\n    <tr>\n      <th>520</th>\n      <td>95.5</td>\n      <td>1.184</td>\n      <td>2</td>\n      <td>1</td>\n      <td>1</td>\n      <td>1951</td>\n      <td>0</td>\n      <td>0</td>\n      <td>0</td>\n    </tr>\n  </tbody>\n</table>\n<p>521 rows × 9 columns</p>\n</div>"
     },
     "execution_count": 11,
     "metadata": {},
     "output_type": "execute_result"
    }
   ],
   "source": [
    "#Transform the yes and no into 1 and 0\n",
    "df_realstate.Highway.replace(('yes', 'no'), (1, 0), inplace=True)\n",
    "df_realstate.Aircondition.replace(('yes', 'no'), (1, 0), inplace=True)\n",
    "df_realstate.SwimmingPool.replace(('yes', 'no'), (1, 0), inplace=True)\n",
    "\n",
    "df_realstate"
   ],
   "metadata": {
    "collapsed": false,
    "pycharm": {
     "name": "#%%\n"
    }
   }
  },
  {
   "cell_type": "markdown",
   "source": [
    "One of the requirement is that 'Highway' should always be in the independent variables.\n",
    "By a quick OLS we can understand the importance of 'Highway' on the dependent variable alone."
   ],
   "metadata": {
    "collapsed": false,
    "pycharm": {
     "name": "#%% md\n"
    }
   }
  },
  {
   "cell_type": "code",
   "execution_count": 12,
   "outputs": [
    {
     "data": {
      "text/plain": "<class 'statsmodels.iolib.summary.Summary'>\n\"\"\"\n                                 OLS Regression Results                                \n=======================================================================================\nDep. Variable:              SalePrice   R-squared (uncentered):                   0.012\nModel:                            OLS   Adj. R-squared (uncentered):              0.010\nMethod:                 Least Squares   F-statistic:                              6.132\nDate:                Mon, 25 Apr 2022   Prob (F-statistic):                      0.0136\nTime:                        11:49:02   Log-Likelihood:                         -3724.3\nNo. Observations:                 521   AIC:                                      7451.\nDf Residuals:                     520   BIC:                                      7455.\nDf Model:                           1                                                  \nCovariance Type:            nonrobust                                                  \n==============================================================================\n                 coef    std err          t      P>|t|      [0.025      0.975]\n------------------------------------------------------------------------------\nHighway      230.0273     92.895      2.476      0.014      47.531     412.523\n==============================================================================\nOmnibus:                      125.306   Durbin-Watson:                   0.078\nProb(Omnibus):                  0.000   Jarque-Bera (JB):              257.701\nSkew:                           1.305   Prob(JB):                     1.10e-56\nKurtosis:                       5.249   Cond. No.                         1.00\n==============================================================================\n\nNotes:\n[1] R² is computed without centering (uncentered) since the model does not contain a constant.\n[2] Standard Errors assume that the covariance matrix of the errors is correctly specified.\n\"\"\"",
      "text/html": "<table class=\"simpletable\">\n<caption>OLS Regression Results</caption>\n<tr>\n  <th>Dep. Variable:</th>        <td>SalePrice</td>    <th>  R-squared (uncentered):</th>      <td>   0.012</td>\n</tr>\n<tr>\n  <th>Model:</th>                   <td>OLS</td>       <th>  Adj. R-squared (uncentered):</th> <td>   0.010</td>\n</tr>\n<tr>\n  <th>Method:</th>             <td>Least Squares</td>  <th>  F-statistic:       </th>          <td>   6.132</td>\n</tr>\n<tr>\n  <th>Date:</th>             <td>Mon, 25 Apr 2022</td> <th>  Prob (F-statistic):</th>           <td>0.0136</td> \n</tr>\n<tr>\n  <th>Time:</th>                 <td>11:49:02</td>     <th>  Log-Likelihood:    </th>          <td> -3724.3</td>\n</tr>\n<tr>\n  <th>No. Observations:</th>      <td>   521</td>      <th>  AIC:               </th>          <td>   7451.</td>\n</tr>\n<tr>\n  <th>Df Residuals:</th>          <td>   520</td>      <th>  BIC:               </th>          <td>   7455.</td>\n</tr>\n<tr>\n  <th>Df Model:</th>              <td>     1</td>      <th>                     </th>              <td> </td>   \n</tr>\n<tr>\n  <th>Covariance Type:</th>      <td>nonrobust</td>    <th>                     </th>              <td> </td>   \n</tr>\n</table>\n<table class=\"simpletable\">\n<tr>\n     <td></td>        <th>coef</th>     <th>std err</th>      <th>t</th>      <th>P>|t|</th>  <th>[0.025</th>    <th>0.975]</th>  \n</tr>\n<tr>\n  <th>Highway</th> <td>  230.0273</td> <td>   92.895</td> <td>    2.476</td> <td> 0.014</td> <td>   47.531</td> <td>  412.523</td>\n</tr>\n</table>\n<table class=\"simpletable\">\n<tr>\n  <th>Omnibus:</th>       <td>125.306</td> <th>  Durbin-Watson:     </th> <td>   0.078</td>\n</tr>\n<tr>\n  <th>Prob(Omnibus):</th> <td> 0.000</td>  <th>  Jarque-Bera (JB):  </th> <td> 257.701</td>\n</tr>\n<tr>\n  <th>Skew:</th>          <td> 1.305</td>  <th>  Prob(JB):          </th> <td>1.10e-56</td>\n</tr>\n<tr>\n  <th>Kurtosis:</th>      <td> 5.249</td>  <th>  Cond. No.          </th> <td>    1.00</td>\n</tr>\n</table><br/><br/>Notes:<br/>[1] R² is computed without centering (uncentered) since the model does not contain a constant.<br/>[2] Standard Errors assume that the covariance matrix of the errors is correctly specified."
     },
     "execution_count": 12,
     "metadata": {},
     "output_type": "execute_result"
    }
   ],
   "source": [
    "#OLS Regression with 1 independent variables\n",
    "features = ['Highway']\n",
    "X = df_realstate[features]\n",
    "y = df_realstate.SalePrice\n",
    "sm.OLS(y, X).fit().summary()"
   ],
   "metadata": {
    "collapsed": false,
    "pycharm": {
     "name": "#%%\n"
    }
   }
  },
  {
   "cell_type": "markdown",
   "source": [
    "We will compare combination of the same number among themselves,\n",
    " afterward we will compare the best combinations."
   ],
   "metadata": {
    "collapsed": false,
    "pycharm": {
     "name": "#%% md\n"
    }
   }
  },
  {
   "cell_type": "code",
   "execution_count": 13,
   "outputs": [
    {
     "data": {
      "text/plain": "[0.9300156539805287,\n 0.8355756206586161,\n 0.8971186971749613,\n 0.8681617522331029,\n 0.7558945613780081,\n 0.10102805689637384]"
     },
     "execution_count": 13,
     "metadata": {},
     "output_type": "execute_result"
    }
   ],
   "source": [
    "#Identifying the best independent variables through the list of 2 combinations of independent variables\n",
    "list_2_variables = list_combinations_highway[0]\n",
    "R_squared_list_2v = []\n",
    "\n",
    "for i in range(len(list_2_variables)):\n",
    "    df_2_variables = df_realstate[list_2_variables[i]]\n",
    "    X = df_2_variables\n",
    "    y = df_realstate.SalePrice\n",
    "    R_squared_list_2v.append(sm.OLS(y, X).fit().rsquared)\n",
    "\n",
    "R_squared_list_2v"
   ],
   "metadata": {
    "collapsed": false,
    "pycharm": {
     "name": "#%%\n"
    }
   }
  },
  {
   "cell_type": "code",
   "execution_count": 14,
   "outputs": [
    {
     "name": "stdout",
     "output_type": "stream",
     "text": [
      "For 2 variables the max R-squared is 0.9300156539805287 with the combination ['Size', 'Highway']\n"
     ]
    }
   ],
   "source": [
    "#Looking for the best rsquared value of the list\n",
    "max_value = max(R_squared_list_2v)\n",
    "max_index = R_squared_list_2v. index(max_value)\n",
    "print('For 2 variables the max R-squared is', max_value, 'with the combination', list_2_variables[max_index])"
   ],
   "metadata": {
    "collapsed": false,
    "pycharm": {
     "name": "#%%\n"
    }
   }
  },
  {
   "cell_type": "code",
   "execution_count": 15,
   "outputs": [
    {
     "data": {
      "text/plain": "[0.9331087875583655,\n 0.9322558566329116,\n 0.9306806837518629,\n 0.9300218294863676,\n 0.9301617097511793,\n 0.8988518415475699,\n 0.8789527716489902,\n 0.8459562733726487,\n 0.8369002313778217,\n 0.9110415599261054,\n 0.8991797188102146,\n 0.8971498742085265,\n 0.8709782228844751,\n 0.8694939804325788,\n 0.7592381177342928]"
     },
     "execution_count": 15,
     "metadata": {},
     "output_type": "execute_result"
    }
   ],
   "source": [
    "#Identifying the best independent variables through the list of 3 combinations of independent variables\n",
    "list_3_variables = list_combinations_highway[1]\n",
    "R_squared_list_3v = []\n",
    "\n",
    "for i in range(len(list_3_variables)):\n",
    "    df_3_variables = df_realstate[list_3_variables[i]]\n",
    "    X = df_3_variables\n",
    "    y = df_realstate.SalePrice\n",
    "    R_squared_list_3v.append(sm.OLS(y, X).fit().rsquared)\n",
    "\n",
    "R_squared_list_3v"
   ],
   "metadata": {
    "collapsed": false,
    "pycharm": {
     "name": "#%%\n"
    }
   }
  },
  {
   "cell_type": "code",
   "execution_count": 16,
   "outputs": [
    {
     "name": "stdout",
     "output_type": "stream",
     "text": [
      "For 3 variables the max R-squared is 0.9331087875583655 with the combination ['Size', 'Beds', 'Highway']\n"
     ]
    }
   ],
   "source": [
    "#Looking for the best rsquared value of the list\n",
    "max_value = max(R_squared_list_3v)\n",
    "max_index = R_squared_list_3v. index(max_value)\n",
    "print('For 3 variables the max R-squared is', max_value, 'with the combination', list_3_variables[max_index])"
   ],
   "metadata": {
    "collapsed": false,
    "pycharm": {
     "name": "#%%\n"
    }
   }
  },
  {
   "cell_type": "code",
   "execution_count": 17,
   "outputs": [
    {
     "data": {
      "text/plain": "[0.9371985113179532,\n 0.9349282332863939,\n 0.9333145004289432,\n 0.9332665814492123,\n 0.932578433400195,\n 0.9324045705080437,\n 0.932316786385806,\n 0.9308394511659724,\n 0.930831600562001,\n 0.9301697422334212,\n 0.911267670809546,\n 0.8999004269903815,\n 0.8988928099407894,\n 0.8793715590760882,\n 0.8798181607147949,\n 0.8469519718735682,\n 0.9110856198052191,\n 0.9111171756564705,\n 0.8992075844196166,\n 0.8720995794167891]"
     },
     "execution_count": 17,
     "metadata": {},
     "output_type": "execute_result"
    }
   ],
   "source": [
    "#Identifying the best independent variables through the list of 4 combinations of independent variables\n",
    "list_4_variables = list_combinations_highway[2]\n",
    "R_squared_list_4v = []\n",
    "\n",
    "\n",
    "for i in range(len(list_4_variables)):\n",
    "    df_4_variables = df_realstate[list_4_variables[i]]\n",
    "    X = df_4_variables\n",
    "    y = df_realstate.SalePrice\n",
    "    R_squared_list_4v.append(sm.OLS(y, X).fit().rsquared)\n",
    "\n",
    "R_squared_list_4v"
   ],
   "metadata": {
    "collapsed": false,
    "pycharm": {
     "name": "#%%\n"
    }
   }
  },
  {
   "cell_type": "code",
   "execution_count": 18,
   "outputs": [
    {
     "name": "stdout",
     "output_type": "stream",
     "text": [
      "For 3 variables the max R-squared is 0.9371985113179532 with the combination ['Size', 'Beds', 'Baths', 'Highway']\n"
     ]
    }
   ],
   "source": [
    "#Looking for the best rsquared value of the list\n",
    "max_value = max(R_squared_list_4v)\n",
    "max_index = R_squared_list_4v. index(max_value)\n",
    "print('For 3 variables the max R-squared is', max_value, 'with the combination', list_4_variables[max_index])"
   ],
   "metadata": {
    "collapsed": false,
    "pycharm": {
     "name": "#%%\n"
    }
   }
  },
  {
   "cell_type": "markdown",
   "source": [
    "The 4 variable model is the most precise with the combination of ['Size', 'Beds', 'Baths', 'Highway'] we get an R-squared of 0.937.\n",
    "But the 2 variable model offer a precision of 1% less with a far more robust configuration and simple implementation.\n",
    "This is why I decide to use the two independent variable model."
   ],
   "metadata": {
    "collapsed": false,
    "pycharm": {
     "name": "#%% md\n"
    }
   }
  },
  {
   "cell_type": "code",
   "execution_count": 19,
   "outputs": [
    {
     "data": {
      "text/plain": "<class 'statsmodels.iolib.summary.Summary'>\n\"\"\"\n                                 OLS Regression Results                                \n=======================================================================================\nDep. Variable:              SalePrice   R-squared (uncentered):                   0.930\nModel:                            OLS   Adj. R-squared (uncentered):              0.930\nMethod:                 Least Squares   F-statistic:                              3448.\nDate:                Mon, 25 Apr 2022   Prob (F-statistic):                   1.90e-300\nTime:                        11:49:02   Log-Likelihood:                         -3034.6\nNo. Observations:                 521   AIC:                                      6073.\nDf Residuals:                     519   BIC:                                      6082.\nDf Model:                           2                                                  \nCovariance Type:            nonrobust                                                  \n==============================================================================\n                 coef    std err          t      P>|t|      [0.025      0.975]\n------------------------------------------------------------------------------\nSize         126.1095      1.528     82.526      0.000     123.107     129.112\nHighway      -18.0416     24.925     -0.724      0.469     -67.008      30.925\n==============================================================================\nOmnibus:                      210.769   Durbin-Watson:                   0.951\nProb(Omnibus):                  0.000   Jarque-Bera (JB):              810.744\nSkew:                           1.855   Prob(JB):                    8.89e-177\nKurtosis:                       7.856   Cond. No.                         16.4\n==============================================================================\n\nNotes:\n[1] R² is computed without centering (uncentered) since the model does not contain a constant.\n[2] Standard Errors assume that the covariance matrix of the errors is correctly specified.\n\"\"\"",
      "text/html": "<table class=\"simpletable\">\n<caption>OLS Regression Results</caption>\n<tr>\n  <th>Dep. Variable:</th>        <td>SalePrice</td>    <th>  R-squared (uncentered):</th>      <td>   0.930</td> \n</tr>\n<tr>\n  <th>Model:</th>                   <td>OLS</td>       <th>  Adj. R-squared (uncentered):</th> <td>   0.930</td> \n</tr>\n<tr>\n  <th>Method:</th>             <td>Least Squares</td>  <th>  F-statistic:       </th>          <td>   3448.</td> \n</tr>\n<tr>\n  <th>Date:</th>             <td>Mon, 25 Apr 2022</td> <th>  Prob (F-statistic):</th>          <td>1.90e-300</td>\n</tr>\n<tr>\n  <th>Time:</th>                 <td>11:49:02</td>     <th>  Log-Likelihood:    </th>          <td> -3034.6</td> \n</tr>\n<tr>\n  <th>No. Observations:</th>      <td>   521</td>      <th>  AIC:               </th>          <td>   6073.</td> \n</tr>\n<tr>\n  <th>Df Residuals:</th>          <td>   519</td>      <th>  BIC:               </th>          <td>   6082.</td> \n</tr>\n<tr>\n  <th>Df Model:</th>              <td>     2</td>      <th>                     </th>              <td> </td>    \n</tr>\n<tr>\n  <th>Covariance Type:</th>      <td>nonrobust</td>    <th>                     </th>              <td> </td>    \n</tr>\n</table>\n<table class=\"simpletable\">\n<tr>\n     <td></td>        <th>coef</th>     <th>std err</th>      <th>t</th>      <th>P>|t|</th>  <th>[0.025</th>    <th>0.975]</th>  \n</tr>\n<tr>\n  <th>Size</th>    <td>  126.1095</td> <td>    1.528</td> <td>   82.526</td> <td> 0.000</td> <td>  123.107</td> <td>  129.112</td>\n</tr>\n<tr>\n  <th>Highway</th> <td>  -18.0416</td> <td>   24.925</td> <td>   -0.724</td> <td> 0.469</td> <td>  -67.008</td> <td>   30.925</td>\n</tr>\n</table>\n<table class=\"simpletable\">\n<tr>\n  <th>Omnibus:</th>       <td>210.769</td> <th>  Durbin-Watson:     </th> <td>   0.951</td> \n</tr>\n<tr>\n  <th>Prob(Omnibus):</th> <td> 0.000</td>  <th>  Jarque-Bera (JB):  </th> <td> 810.744</td> \n</tr>\n<tr>\n  <th>Skew:</th>          <td> 1.855</td>  <th>  Prob(JB):          </th> <td>8.89e-177</td>\n</tr>\n<tr>\n  <th>Kurtosis:</th>      <td> 7.856</td>  <th>  Cond. No.          </th> <td>    16.4</td> \n</tr>\n</table><br/><br/>Notes:<br/>[1] R² is computed without centering (uncentered) since the model does not contain a constant.<br/>[2] Standard Errors assume that the covariance matrix of the errors is correctly specified."
     },
     "execution_count": 19,
     "metadata": {},
     "output_type": "execute_result"
    }
   ],
   "source": [
    "# OLS regression with 2 independent variables ['Size', 'Highway']\n",
    "features = ['Size', 'Highway']\n",
    "X = df_realstate[features]\n",
    "y = df_realstate.SalePrice\n",
    "results = sm.OLS(y, X).fit().summary()\n",
    "sm.OLS(y, X).fit().summary()"
   ],
   "metadata": {
    "collapsed": false,
    "pycharm": {
     "name": "#%%\n"
    }
   }
  },
  {
   "cell_type": "code",
   "execution_count": 20,
   "outputs": [],
   "source": [
    "#Export of the results\n",
    "with open('Q2_b.txt', 'w') as fh:\n",
    "    fh.write(results.as_text())"
   ],
   "metadata": {
    "collapsed": false,
    "pycharm": {
     "name": "#%%\n"
    }
   }
  }
 ],
 "metadata": {
  "kernelspec": {
   "display_name": "Python 3",
   "language": "python",
   "name": "python3"
  },
  "language_info": {
   "codemirror_mode": {
    "name": "ipython",
    "version": 2
   },
   "file_extension": ".py",
   "mimetype": "text/x-python",
   "name": "python",
   "nbconvert_exporter": "python",
   "pygments_lexer": "ipython2",
   "version": "2.7.6"
  }
 },
 "nbformat": 4,
 "nbformat_minor": 0
}