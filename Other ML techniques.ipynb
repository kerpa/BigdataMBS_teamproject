{
 "cells": [
  {
   "cell_type": "markdown",
   "source": [
    "# Real estate dataset using other techniques of ML using\n",
    "In this notebook, we will use the real estate dataset to predict the price of a house.\n",
    "But we will use other techniques of ML to predict the price of a house.\n",
    "We will use the following techniques:\n",
    "decision tree in random forest and Artificial Neural Network."
   ],
   "metadata": {
    "collapsed": false,
    "pycharm": {
     "name": "#%% md\n"
    }
   }
  },
  {
   "cell_type": "code",
   "execution_count": 1,
   "outputs": [],
   "source": [
    "import pandas as pd\n",
    "from matplotlib import pyplot as plt\n",
    "from sklearn.model_selection import train_test_split\n",
    "from sklearn.tree import DecisionTreeRegressor\n",
    "from sklearn.metrics import r2_score"
   ],
   "metadata": {
    "collapsed": false,
    "pycharm": {
     "name": "#%%\n"
    }
   }
  },
  {
   "cell_type": "markdown",
   "source": [
    "## Decision Tree Regressor and Random Forest Regressor"
   ],
   "metadata": {
    "collapsed": false,
    "pycharm": {
     "name": "#%% md\n"
    }
   }
  },
  {
   "cell_type": "code",
   "execution_count": 2,
   "outputs": [
    {
     "data": {
      "text/plain": "   SalePrice   Size  Beds  Baths  Num_Garage  Year Highway Aircondition  \\\n0      360.0  3.032     4      4           2  1972      no          yes   \n1      340.0  2.058     4      2           2  1976      no          yes   \n2      250.0  1.780     4      3           2  1980      no          yes   \n3      205.5  1.638     4      2           2  1963      no          yes   \n4      275.5  2.196     4      3           2  1968      no          yes   \n\n  SwimmingPool  \n0           no  \n1           no  \n2           no  \n3           no  \n4           no  ",
      "text/html": "<div>\n<style scoped>\n    .dataframe tbody tr th:only-of-type {\n        vertical-align: middle;\n    }\n\n    .dataframe tbody tr th {\n        vertical-align: top;\n    }\n\n    .dataframe thead th {\n        text-align: right;\n    }\n</style>\n<table border=\"1\" class=\"dataframe\">\n  <thead>\n    <tr style=\"text-align: right;\">\n      <th></th>\n      <th>SalePrice</th>\n      <th>Size</th>\n      <th>Beds</th>\n      <th>Baths</th>\n      <th>Num_Garage</th>\n      <th>Year</th>\n      <th>Highway</th>\n      <th>Aircondition</th>\n      <th>SwimmingPool</th>\n    </tr>\n  </thead>\n  <tbody>\n    <tr>\n      <th>0</th>\n      <td>360.0</td>\n      <td>3.032</td>\n      <td>4</td>\n      <td>4</td>\n      <td>2</td>\n      <td>1972</td>\n      <td>no</td>\n      <td>yes</td>\n      <td>no</td>\n    </tr>\n    <tr>\n      <th>1</th>\n      <td>340.0</td>\n      <td>2.058</td>\n      <td>4</td>\n      <td>2</td>\n      <td>2</td>\n      <td>1976</td>\n      <td>no</td>\n      <td>yes</td>\n      <td>no</td>\n    </tr>\n    <tr>\n      <th>2</th>\n      <td>250.0</td>\n      <td>1.780</td>\n      <td>4</td>\n      <td>3</td>\n      <td>2</td>\n      <td>1980</td>\n      <td>no</td>\n      <td>yes</td>\n      <td>no</td>\n    </tr>\n    <tr>\n      <th>3</th>\n      <td>205.5</td>\n      <td>1.638</td>\n      <td>4</td>\n      <td>2</td>\n      <td>2</td>\n      <td>1963</td>\n      <td>no</td>\n      <td>yes</td>\n      <td>no</td>\n    </tr>\n    <tr>\n      <th>4</th>\n      <td>275.5</td>\n      <td>2.196</td>\n      <td>4</td>\n      <td>3</td>\n      <td>2</td>\n      <td>1968</td>\n      <td>no</td>\n      <td>yes</td>\n      <td>no</td>\n    </tr>\n  </tbody>\n</table>\n</div>"
     },
     "execution_count": 2,
     "metadata": {},
     "output_type": "execute_result"
    }
   ],
   "source": [
    "# load the dataset\n",
    "df = pd.read_csv('dataset/Realstate.csv')\n",
    "df.head()"
   ],
   "metadata": {
    "collapsed": false,
    "pycharm": {
     "name": "#%%\n"
    }
   }
  },
  {
   "cell_type": "code",
   "execution_count": 3,
   "outputs": [
    {
     "data": {
      "text/plain": "   SalePrice   Size  Beds  Baths  Num_Garage  Year  Highway  Aircondition  \\\n0      360.0  3.032     4      4           2  1972        0             1   \n1      340.0  2.058     4      2           2  1976        0             1   \n2      250.0  1.780     4      3           2  1980        0             1   \n3      205.5  1.638     4      2           2  1963        0             1   \n4      275.5  2.196     4      3           2  1968        0             1   \n\n   SwimmingPool  \n0             0  \n1             0  \n2             0  \n3             0  \n4             0  ",
      "text/html": "<div>\n<style scoped>\n    .dataframe tbody tr th:only-of-type {\n        vertical-align: middle;\n    }\n\n    .dataframe tbody tr th {\n        vertical-align: top;\n    }\n\n    .dataframe thead th {\n        text-align: right;\n    }\n</style>\n<table border=\"1\" class=\"dataframe\">\n  <thead>\n    <tr style=\"text-align: right;\">\n      <th></th>\n      <th>SalePrice</th>\n      <th>Size</th>\n      <th>Beds</th>\n      <th>Baths</th>\n      <th>Num_Garage</th>\n      <th>Year</th>\n      <th>Highway</th>\n      <th>Aircondition</th>\n      <th>SwimmingPool</th>\n    </tr>\n  </thead>\n  <tbody>\n    <tr>\n      <th>0</th>\n      <td>360.0</td>\n      <td>3.032</td>\n      <td>4</td>\n      <td>4</td>\n      <td>2</td>\n      <td>1972</td>\n      <td>0</td>\n      <td>1</td>\n      <td>0</td>\n    </tr>\n    <tr>\n      <th>1</th>\n      <td>340.0</td>\n      <td>2.058</td>\n      <td>4</td>\n      <td>2</td>\n      <td>2</td>\n      <td>1976</td>\n      <td>0</td>\n      <td>1</td>\n      <td>0</td>\n    </tr>\n    <tr>\n      <th>2</th>\n      <td>250.0</td>\n      <td>1.780</td>\n      <td>4</td>\n      <td>3</td>\n      <td>2</td>\n      <td>1980</td>\n      <td>0</td>\n      <td>1</td>\n      <td>0</td>\n    </tr>\n    <tr>\n      <th>3</th>\n      <td>205.5</td>\n      <td>1.638</td>\n      <td>4</td>\n      <td>2</td>\n      <td>2</td>\n      <td>1963</td>\n      <td>0</td>\n      <td>1</td>\n      <td>0</td>\n    </tr>\n    <tr>\n      <th>4</th>\n      <td>275.5</td>\n      <td>2.196</td>\n      <td>4</td>\n      <td>3</td>\n      <td>2</td>\n      <td>1968</td>\n      <td>0</td>\n      <td>1</td>\n      <td>0</td>\n    </tr>\n  </tbody>\n</table>\n</div>"
     },
     "execution_count": 3,
     "metadata": {},
     "output_type": "execute_result"
    }
   ],
   "source": [
    "#transform the yes/no column into 1/0\n",
    "df.Highway.replace(('yes', 'no'), (1, 0), inplace=True)\n",
    "df.Aircondition.replace(('yes', 'no'), (1, 0), inplace=True)\n",
    "df.SwimmingPool.replace(('yes', 'no'), (1, 0), inplace=True)\n",
    "df.head()"
   ],
   "metadata": {
    "collapsed": false,
    "pycharm": {
     "name": "#%%\n"
    }
   }
  },
  {
   "cell_type": "code",
   "execution_count": 4,
   "outputs": [],
   "source": [
    "#define features and target\n",
    "features = df[['Size', 'Highway']]\n",
    "target = df['SalePrice']"
   ],
   "metadata": {
    "collapsed": false,
    "pycharm": {
     "name": "#%%\n"
    }
   }
  },
  {
   "cell_type": "code",
   "execution_count": 5,
   "outputs": [
    {
     "data": {
      "text/plain": "<Figure size 432x288 with 1 Axes>",
      "image/png": "[encoded data removed]"
     },
     "metadata": {
      "needs_background": "light"
     },
     "output_type": "display_data"
    }
   ],
   "source": [
    "#plot the rsquared values in function of the test size\n",
    "test_size = [0.1, 0.2, 0.3, 0.4, 0.5, 0.6, 0.7, 0.8, 0.9]\n",
    "r2_values = []\n",
    "for i in test_size:\n",
    "    X_train, X_test, y_train, y_test = train_test_split(features, target, test_size=i)\n",
    "    regressor = DecisionTreeRegressor()\n",
    "    regressor.fit(X_train, y_train)\n",
    "    y_pred = regressor.predict(X_test)\n",
    "    r2_values.append(r2_score(y_test, y_pred))\n",
    "\n",
    "plt.plot(test_size, r2_values)\n",
    "plt.xlabel('Test size')\n",
    "plt.ylabel('R2 score')\n",
    "plt.show()"
   ],
   "metadata": {
    "collapsed": false,
    "pycharm": {
     "name": "#%%\n"
    }
   }
  },
  {
   "cell_type": "code",
   "execution_count": 6,
   "outputs": [],
   "source": [
    "#initialize the train set and test set using test size = 0.4\n",
    "X_train, X_test, y_train, y_test = train_test_split(features, target, test_size=0.2)"
   ],
   "metadata": {
    "collapsed": false,
    "pycharm": {
     "name": "#%%\n"
    }
   }
  },
  {
   "cell_type": "code",
   "execution_count": 7,
   "outputs": [
    {
     "data": {
      "text/plain": "<Figure size 432x288 with 1 Axes>",
      "image/png": "[encoded data removed]"
     },
     "metadata": {
      "needs_background": "light"
     },
     "output_type": "display_data"
    }
   ],
   "source": [
    "#initialize the tree regressor model\n",
    "\n",
    "regressor = DecisionTreeRegressor(random_state=0)\n",
    "\n",
    "#Loop over a range of different maximum depths\n",
    "r2_score_list = []\n",
    "for max_depth in range(1, 20):\n",
    "    regressor.set_params(max_depth=max_depth)\n",
    "    regressor.fit(X_train, y_train)\n",
    "    y_pred = regressor.predict(X_test)\n",
    "    r2_score_list.append(r2_score(y_test, y_pred))\n",
    "\n",
    "#plot the results\n",
    "plt.plot(range(1, 20), r2_score_list)\n",
    "plt.xlabel('Max Depth')\n",
    "plt.ylabel('R2 Score')\n",
    "plt.show()"
   ],
   "metadata": {
    "collapsed": false,
    "pycharm": {
     "name": "#%%\n"
    }
   }
  },
  {
   "cell_type": "code",
   "execution_count": 8,
   "outputs": [
    {
     "name": "stdout",
     "output_type": "stream",
     "text": [
      "The best R2 scrore with a random forest is: 0.6322662725157426\n"
     ]
    }
   ],
   "source": [
    "#initialize the tree regressor model with max_depth = 5\n",
    "regressor = DecisionTreeRegressor(random_state=0, max_depth=4)\n",
    "regressor.fit(X_train, y_train)\n",
    "y_pred = regressor.predict(X_test)\n",
    "r2_score(y_test, y_pred)\n",
    "print('The best R2 scrore with a random forest is:',r2_score(y_test, y_pred))"
   ],
   "metadata": {
    "collapsed": false,
    "pycharm": {
     "name": "#%%\n"
    }
   }
  },
  {
   "cell_type": "code",
   "execution_count": 9,
   "outputs": [
    {
     "data": {
      "text/plain": "<Figure size 432x288 with 1 Axes>",
      "image/png": "[encoded data removed]"
     },
     "metadata": {
      "needs_background": "light"
     },
     "output_type": "display_data"
    }
   ],
   "source": [
    "#plot the actual vs predicted\n",
    "plt.scatter(X_test['Size'], y_test)\n",
    "plt.scatter(X_test['Size'], y_pred, color='red')\n",
    "plt.xlabel('Size')\n",
    "plt.legend(['Actual', 'Predicted'])\n",
    "plt.ylabel('SalePrice')\n",
    "plt.show()"
   ],
   "metadata": {
    "collapsed": false,
    "pycharm": {
     "name": "#%%\n"
    }
   }
  },
  {
   "cell_type": "markdown",
   "source": [
    "## ANN Regressor"
   ],
   "metadata": {
    "collapsed": false,
    "pycharm": {
     "name": "#%% md\n"
    }
   }
  },
  {
   "cell_type": "code",
   "execution_count": 10,
   "outputs": [],
   "source": [
    "# Use of ANN for predict the price of the house\n",
    "# Importing the libraries\n",
    "import numpy as np\n",
    "import matplotlib.pyplot as plt\n",
    "import pandas as pd\n",
    "import tensorflow as tf"
   ],
   "metadata": {
    "collapsed": false,
    "pycharm": {
     "name": "#%%\n"
    }
   }
  },
  {
   "cell_type": "code",
   "execution_count": 11,
   "outputs": [],
   "source": [
    "# Importing the dataset\n",
    "dataset = pd.read_csv('dataset/Realstate.csv')\n",
    "dataset.head()\n",
    "\n",
    "# replace yes with 1 and no with 0\n",
    "dataset.Highway.replace(('yes', 'no'), (1, 0), inplace=True)\n",
    "dataset.Aircondition.replace(('yes', 'no'), (1, 0), inplace=True)\n",
    "dataset.SwimmingPool.replace(('yes', 'no'), (1, 0), inplace=True)\n",
    "\n",
    "# Splitting the dataset into the Training set and Test set\n",
    "from sklearn.model_selection import train_test_split\n",
    "X = dataset.iloc[:, :-1].values\n",
    "y = dataset.iloc[:, -1].values\n",
    "X_train, X_test, y_train, y_test = train_test_split(X, y, test_size=0.2, random_state=0)"
   ],
   "metadata": {
    "collapsed": false,
    "pycharm": {
     "name": "#%%\n"
    }
   }
  },
  {
   "cell_type": "code",
   "execution_count": 12,
   "outputs": [],
   "source": [
    "# Feature Scaling\n",
    "from sklearn.preprocessing import StandardScaler\n",
    "\n",
    "sc = StandardScaler()\n",
    "X_train = sc.fit_transform(X_train)\n",
    "X_test = sc.transform(X_test)"
   ],
   "metadata": {
    "collapsed": false,
    "pycharm": {
     "name": "#%%\n"
    }
   }
  },
  {
   "cell_type": "code",
   "execution_count": 13,
   "outputs": [
    {
     "name": "stderr",
     "output_type": "stream",
     "text": [
      "Using TensorFlow backend.\n",
      "2022-04-24 10:46:35.978646: I tensorflow/core/platform/cpu_feature_guard.cc:145] This TensorFlow binary is optimized with Intel(R) MKL-DNN to use the following CPU instructions in performance critical operations:  SSE4.1 SSE4.2\n",
      "To enable them in non-MKL-DNN operations, rebuild TensorFlow with the appropriate compiler flags.\n",
      "2022-04-24 10:46:35.979092: I tensorflow/core/common_runtime/process_util.cc:115] Creating new thread pool with default inter op setting: 8. Tune using inter_op_parallelism_threads for best performance.\n"
     ]
    },
    {
     "name": "stdout",
     "output_type": "stream",
     "text": [
      "Epoch 1/100\n",
      "416/416 [==============================] - 0s 1ms/step - loss: 0.6826 - accuracy: 0.9183\n",
      "Epoch 2/100\n",
      "416/416 [==============================] - 0s 161us/step - loss: 0.6494 - accuracy: 0.9399\n",
      "Epoch 3/100\n",
      "416/416 [==============================] - 0s 165us/step - loss: 0.5767 - accuracy: 0.9399\n",
      "Epoch 4/100\n",
      "416/416 [==============================] - 0s 167us/step - loss: 0.4575 - accuracy: 0.9399\n",
      "Epoch 5/100\n",
      "416/416 [==============================] - 0s 147us/step - loss: 0.3440 - accuracy: 0.9399\n",
      "Epoch 6/100\n",
      "416/416 [==============================] - 0s 163us/step - loss: 0.2756 - accuracy: 0.9399\n",
      "Epoch 7/100\n",
      "416/416 [==============================] - 0s 131us/step - loss: 0.2442 - accuracy: 0.9399\n",
      "Epoch 8/100\n",
      "416/416 [==============================] - 0s 135us/step - loss: 0.2299 - accuracy: 0.9399\n",
      "Epoch 9/100\n",
      "416/416 [==============================] - 0s 133us/step - loss: 0.2228 - accuracy: 0.9399\n",
      "Epoch 10/100\n",
      "416/416 [==============================] - 0s 131us/step - loss: 0.2182 - accuracy: 0.9399\n",
      "Epoch 11/100\n",
      "416/416 [==============================] - 0s 132us/step - loss: 0.2154 - accuracy: 0.9399\n",
      "Epoch 12/100\n",
      "416/416 [==============================] - 0s 150us/step - loss: 0.2126 - accuracy: 0.9399\n",
      "Epoch 13/100\n",
      "416/416 [==============================] - 0s 158us/step - loss: 0.2108 - accuracy: 0.9399\n",
      "Epoch 14/100\n",
      "416/416 [==============================] - 0s 195us/step - loss: 0.2087 - accuracy: 0.9399\n",
      "Epoch 15/100\n",
      "416/416 [==============================] - 0s 171us/step - loss: 0.2075 - accuracy: 0.9399\n",
      "Epoch 16/100\n",
      "416/416 [==============================] - 0s 134us/step - loss: 0.2061 - accuracy: 0.9399\n",
      "Epoch 17/100\n",
      "416/416 [==============================] - 0s 138us/step - loss: 0.2049 - accuracy: 0.9399\n",
      "Epoch 18/100\n",
      "416/416 [==============================] - 0s 131us/step - loss: 0.2038 - accuracy: 0.9399\n",
      "Epoch 19/100\n",
      "416/416 [==============================] - 0s 131us/step - loss: 0.2031 - accuracy: 0.9399\n",
      "Epoch 20/100\n",
      "416/416 [==============================] - 0s 137us/step - loss: 0.2019 - accuracy: 0.9399\n",
      "Epoch 21/100\n",
      "416/416 [==============================] - 0s 133us/step - loss: 0.2009 - accuracy: 0.9399\n",
      "Epoch 22/100\n",
      "416/416 [==============================] - 0s 132us/step - loss: 0.2000 - accuracy: 0.9399\n",
      "Epoch 23/100\n",
      "416/416 [==============================] - 0s 130us/step - loss: 0.1993 - accuracy: 0.9399\n",
      "Epoch 24/100\n",
      "416/416 [==============================] - 0s 132us/step - loss: 0.1986 - accuracy: 0.9399\n",
      "Epoch 25/100\n",
      "416/416 [==============================] - 0s 133us/step - loss: 0.1977 - accuracy: 0.9399\n",
      "Epoch 26/100\n",
      "416/416 [==============================] - 0s 135us/step - loss: 0.1972 - accuracy: 0.9399\n",
      "Epoch 27/100\n",
      "416/416 [==============================] - 0s 133us/step - loss: 0.1963 - accuracy: 0.9399\n",
      "Epoch 28/100\n",
      "416/416 [==============================] - 0s 141us/step - loss: 0.1954 - accuracy: 0.9399\n",
      "Epoch 29/100\n",
      "416/416 [==============================] - 0s 140us/step - loss: 0.1947 - accuracy: 0.9399\n",
      "Epoch 30/100\n",
      "416/416 [==============================] - 0s 148us/step - loss: 0.1942 - accuracy: 0.9399\n",
      "Epoch 31/100\n",
      "416/416 [==============================] - 0s 163us/step - loss: 0.1932 - accuracy: 0.9399\n",
      "Epoch 32/100\n",
      "416/416 [==============================] - 0s 170us/step - loss: 0.1925 - accuracy: 0.9399\n",
      "Epoch 33/100\n",
      "416/416 [==============================] - 0s 162us/step - loss: 0.1917 - accuracy: 0.9399\n",
      "Epoch 34/100\n",
      "416/416 [==============================] - 0s 136us/step - loss: 0.1913 - accuracy: 0.9399\n",
      "Epoch 35/100\n",
      "416/416 [==============================] - 0s 150us/step - loss: 0.1905 - accuracy: 0.9399\n",
      "Epoch 36/100\n",
      "416/416 [==============================] - 0s 137us/step - loss: 0.1901 - accuracy: 0.9399\n",
      "Epoch 37/100\n",
      "416/416 [==============================] - 0s 161us/step - loss: 0.1890 - accuracy: 0.9399\n",
      "Epoch 38/100\n",
      "416/416 [==============================] - 0s 169us/step - loss: 0.1887 - accuracy: 0.9399\n",
      "Epoch 39/100\n",
      "416/416 [==============================] - 0s 160us/step - loss: 0.1877 - accuracy: 0.9399\n",
      "Epoch 40/100\n",
      "416/416 [==============================] - 0s 152us/step - loss: 0.1873 - accuracy: 0.9399\n",
      "Epoch 41/100\n",
      "416/416 [==============================] - 0s 135us/step - loss: 0.1868 - accuracy: 0.9399\n",
      "Epoch 42/100\n",
      "416/416 [==============================] - 0s 157us/step - loss: 0.1861 - accuracy: 0.9399\n",
      "Epoch 43/100\n",
      "416/416 [==============================] - 0s 149us/step - loss: 0.1853 - accuracy: 0.9399\n",
      "Epoch 44/100\n",
      "416/416 [==============================] - 0s 138us/step - loss: 0.1848 - accuracy: 0.9399\n",
      "Epoch 45/100\n",
      "416/416 [==============================] - 0s 134us/step - loss: 0.1843 - accuracy: 0.9399\n",
      "Epoch 46/100\n",
      "416/416 [==============================] - 0s 132us/step - loss: 0.1842 - accuracy: 0.9399\n",
      "Epoch 47/100\n",
      "416/416 [==============================] - 0s 127us/step - loss: 0.1832 - accuracy: 0.9399\n",
      "Epoch 48/100\n",
      "416/416 [==============================] - 0s 127us/step - loss: 0.1826 - accuracy: 0.9399\n",
      "Epoch 49/100\n",
      "416/416 [==============================] - 0s 130us/step - loss: 0.1822 - accuracy: 0.9399\n",
      "Epoch 50/100\n",
      "416/416 [==============================] - 0s 132us/step - loss: 0.1819 - accuracy: 0.9399\n",
      "Epoch 51/100\n",
      "416/416 [==============================] - 0s 132us/step - loss: 0.1813 - accuracy: 0.9399\n",
      "Epoch 52/100\n",
      "416/416 [==============================] - 0s 136us/step - loss: 0.1806 - accuracy: 0.9399\n",
      "Epoch 53/100\n",
      "416/416 [==============================] - 0s 144us/step - loss: 0.1801 - accuracy: 0.9399\n",
      "Epoch 54/100\n",
      "416/416 [==============================] - 0s 140us/step - loss: 0.1798 - accuracy: 0.9399\n",
      "Epoch 55/100\n",
      "416/416 [==============================] - 0s 140us/step - loss: 0.1789 - accuracy: 0.9399\n",
      "Epoch 56/100\n",
      "416/416 [==============================] - 0s 141us/step - loss: 0.1785 - accuracy: 0.9399\n",
      "Epoch 57/100\n",
      "416/416 [==============================] - 0s 139us/step - loss: 0.1777 - accuracy: 0.9399\n",
      "Epoch 58/100\n",
      "416/416 [==============================] - 0s 133us/step - loss: 0.1776 - accuracy: 0.9399\n",
      "Epoch 59/100\n",
      "416/416 [==============================] - 0s 131us/step - loss: 0.1772 - accuracy: 0.9399\n",
      "Epoch 60/100\n",
      "416/416 [==============================] - 0s 132us/step - loss: 0.1771 - accuracy: 0.9399\n",
      "Epoch 61/100\n",
      "416/416 [==============================] - 0s 138us/step - loss: 0.1761 - accuracy: 0.9399\n",
      "Epoch 62/100\n",
      "416/416 [==============================] - 0s 295us/step - loss: 0.1759 - accuracy: 0.9399\n",
      "Epoch 63/100\n",
      "416/416 [==============================] - 0s 160us/step - loss: 0.1764 - accuracy: 0.9399\n",
      "Epoch 64/100\n",
      "416/416 [==============================] - 0s 130us/step - loss: 0.1751 - accuracy: 0.9399\n",
      "Epoch 65/100\n",
      "416/416 [==============================] - 0s 136us/step - loss: 0.1747 - accuracy: 0.9399\n",
      "Epoch 66/100\n",
      "416/416 [==============================] - 0s 130us/step - loss: 0.1744 - accuracy: 0.9399\n",
      "Epoch 67/100\n",
      "416/416 [==============================] - 0s 133us/step - loss: 0.1739 - accuracy: 0.9399\n",
      "Epoch 68/100\n",
      "416/416 [==============================] - 0s 130us/step - loss: 0.1739 - accuracy: 0.9399\n",
      "Epoch 69/100\n",
      "416/416 [==============================] - 0s 133us/step - loss: 0.1733 - accuracy: 0.9399\n",
      "Epoch 70/100\n",
      "416/416 [==============================] - 0s 131us/step - loss: 0.1730 - accuracy: 0.9399\n",
      "Epoch 71/100\n",
      "416/416 [==============================] - 0s 132us/step - loss: 0.1732 - accuracy: 0.9399\n",
      "Epoch 72/100\n",
      "416/416 [==============================] - 0s 132us/step - loss: 0.1729 - accuracy: 0.9399\n",
      "Epoch 73/100\n",
      "416/416 [==============================] - 0s 128us/step - loss: 0.1725 - accuracy: 0.9399\n",
      "Epoch 74/100\n",
      "416/416 [==============================] - 0s 129us/step - loss: 0.1721 - accuracy: 0.9399\n",
      "Epoch 75/100\n",
      "416/416 [==============================] - 0s 133us/step - loss: 0.1725 - accuracy: 0.9399\n",
      "Epoch 76/100\n",
      "416/416 [==============================] - 0s 133us/step - loss: 0.1718 - accuracy: 0.9399\n",
      "Epoch 77/100\n",
      "416/416 [==============================] - 0s 145us/step - loss: 0.1713 - accuracy: 0.9399\n",
      "Epoch 78/100\n",
      "416/416 [==============================] - 0s 156us/step - loss: 0.1713 - accuracy: 0.9399\n",
      "Epoch 79/100\n",
      "416/416 [==============================] - 0s 153us/step - loss: 0.1712 - accuracy: 0.9399\n",
      "Epoch 80/100\n",
      "416/416 [==============================] - 0s 167us/step - loss: 0.1708 - accuracy: 0.9399\n",
      "Epoch 81/100\n",
      "416/416 [==============================] - 0s 155us/step - loss: 0.1704 - accuracy: 0.9399\n",
      "Epoch 82/100\n",
      "416/416 [==============================] - 0s 167us/step - loss: 0.1707 - accuracy: 0.9399\n",
      "Epoch 83/100\n",
      "416/416 [==============================] - 0s 158us/step - loss: 0.1704 - accuracy: 0.9399\n",
      "Epoch 84/100\n",
      "416/416 [==============================] - 0s 148us/step - loss: 0.1700 - accuracy: 0.9399\n",
      "Epoch 85/100\n",
      "416/416 [==============================] - 0s 161us/step - loss: 0.1700 - accuracy: 0.9399\n",
      "Epoch 86/100\n",
      "416/416 [==============================] - 0s 160us/step - loss: 0.1696 - accuracy: 0.9399\n",
      "Epoch 87/100\n",
      "416/416 [==============================] - 0s 157us/step - loss: 0.1700 - accuracy: 0.9399\n",
      "Epoch 88/100\n",
      "416/416 [==============================] - 0s 144us/step - loss: 0.1691 - accuracy: 0.9399\n",
      "Epoch 89/100\n",
      "416/416 [==============================] - 0s 135us/step - loss: 0.1689 - accuracy: 0.9399\n",
      "Epoch 90/100\n",
      "416/416 [==============================] - 0s 133us/step - loss: 0.1691 - accuracy: 0.9399\n",
      "Epoch 91/100\n",
      "416/416 [==============================] - 0s 129us/step - loss: 0.1688 - accuracy: 0.9399\n",
      "Epoch 92/100\n",
      "416/416 [==============================] - 0s 131us/step - loss: 0.1683 - accuracy: 0.9399\n",
      "Epoch 93/100\n",
      "416/416 [==============================] - 0s 132us/step - loss: 0.1686 - accuracy: 0.9399\n",
      "Epoch 94/100\n",
      "416/416 [==============================] - 0s 136us/step - loss: 0.1684 - accuracy: 0.9399\n",
      "Epoch 95/100\n",
      "416/416 [==============================] - 0s 129us/step - loss: 0.1686 - accuracy: 0.9399\n",
      "Epoch 96/100\n",
      "416/416 [==============================] - 0s 133us/step - loss: 0.1678 - accuracy: 0.9399\n",
      "Epoch 97/100\n",
      "416/416 [==============================] - 0s 130us/step - loss: 0.1682 - accuracy: 0.9399\n",
      "Epoch 98/100\n",
      "416/416 [==============================] - 0s 154us/step - loss: 0.1677 - accuracy: 0.9399\n",
      "Epoch 99/100\n",
      "416/416 [==============================] - 0s 159us/step - loss: 0.1678 - accuracy: 0.9399\n",
      "Epoch 100/100\n",
      "416/416 [==============================] - 0s 154us/step - loss: 0.1674 - accuracy: 0.9399\n"
     ]
    },
    {
     "data": {
      "text/plain": "<keras.callbacks.callbacks.History at 0x7faab4480e50>"
     },
     "execution_count": 13,
     "metadata": {},
     "output_type": "execute_result"
    }
   ],
   "source": [
    "# create the ANN\n",
    "from keras.models import Sequential\n",
    "from keras.layers import Dense\n",
    "\n",
    "model = Sequential()\n",
    "model.add(Dense(units=6, kernel_initializer='uniform', activation='relu', input_dim=8))\n",
    "model.add(Dense(units=6, kernel_initializer='uniform', activation='relu'))\n",
    "model.add(Dense(units=1, kernel_initializer='uniform', activation='sigmoid'))\n",
    "model.compile(optimizer='adam', loss='binary_crossentropy', metrics=['accuracy'])\n",
    "model.fit(X_train, y_train, batch_size=10, epochs=100)\n"
   ],
   "metadata": {
    "collapsed": false,
    "pycharm": {
     "name": "#%%\n"
    }
   }
  },
  {
   "cell_type": "code",
   "execution_count": 14,
   "outputs": [
    {
     "name": "stdout",
     "output_type": "stream",
     "text": [
      "105/105 [==============================] - 0s 611us/step\n",
      "Accuracy of ANN is:  0.8952381014823914\n"
     ]
    }
   ],
   "source": [
    "# Predicting the Test set results\n",
    "y_pred = model.predict(X_test)\n",
    "\n",
    "#print the accuracy\n",
    "print('Accuracy of ANN is: ', model.evaluate(X_test, y_test)[1])\n"
   ],
   "metadata": {
    "collapsed": false,
    "pycharm": {
     "name": "#%%\n"
    }
   }
  },
  {
   "cell_type": "markdown",
   "source": [
    "## Conclusion\n",
    "\n",
    "The linear regression achieves at its best 0.937 accuracy at its best.\n",
    "The RF regressor achieves 0.633 accuracy at its best.\n",
    "The ANN achieves 0.895 accuracy at its best.\n",
    "\n",
    "The simplest technic looks like precise. The Linear model is the most accurate.\n",
    "But the ANN allow to use every variable in the model without the ranking of combinations.\n",
    "\n",
    "There is a lot of combinations that can be used in the model. Thus, the ANN is the most robust technic."
   ],
   "metadata": {
    "collapsed": false,
    "pycharm": {
     "name": "#%% md\n"
    }
   }
  }
 ],
 "metadata": {
  "kernelspec": {
   "display_name": "Python 3",
   "language": "python",
   "name": "python3"
  },
  "language_info": {
   "codemirror_mode": {
    "name": "ipython",
    "version": 2
   },
   "file_extension": ".py",
   "mimetype": "text/x-python",
   "name": "python",
   "nbconvert_exporter": "python",
   "pygments_lexer": "ipython2",
   "version": "2.7.6"
  }
 },
 "nbformat": 4,
 "nbformat_minor": 0
}