{
 "cells": [
  {
   "cell_type": "markdown",
   "source": [
    "# Real estate dataset using other techniques of ML using\n",
    "In this notebook, we will use the real estate dataset to predict the price of a house.\n",
    "But we will use other techniques of ML to predict the price of a house.\n",
    "We will use the following techniques:\n",
    "decision tree in random forest and Artificial Neural Network."
   ],
   "metadata": {
    "collapsed": false,
    "pycharm": {
     "name": "#%% md\n"
    }
   }
  },
  {
   "cell_type": "code",
   "execution_count": 1,
   "outputs": [],
   "source": [
    "import pandas as pd\n",
    "from matplotlib import pyplot as plt\n",
    "from sklearn.model_selection import train_test_split\n",
    "from sklearn.tree import DecisionTreeRegressor\n",
    "from sklearn.metrics import r2_score"
   ],
   "metadata": {
    "collapsed": false,
    "pycharm": {
     "name": "#%%\n"
    }
   }
  },
  {
   "cell_type": "markdown",
   "source": [
    "## Decision Tree Regressor and Random Forest Regressor"
   ],
   "metadata": {
    "collapsed": false,
    "pycharm": {
     "name": "#%% md\n"
    }
   }
  },
  {
   "cell_type": "code",
   "execution_count": 2,
   "outputs": [
    {
     "data": {
      "text/plain": "   SalePrice   Size  Beds  Baths  Num_Garage  Year Highway Aircondition  \\\n0      360.0  3.032     4      4           2  1972      no          yes   \n1      340.0  2.058     4      2           2  1976      no          yes   \n2      250.0  1.780     4      3           2  1980      no          yes   \n3      205.5  1.638     4      2           2  1963      no          yes   \n4      275.5  2.196     4      3           2  1968      no          yes   \n\n  SwimmingPool  \n0           no  \n1           no  \n2           no  \n3           no  \n4           no  ",
      "text/html": "<div>\n<style scoped>\n    .dataframe tbody tr th:only-of-type {\n        vertical-align: middle;\n    }\n\n    .dataframe tbody tr th {\n        vertical-align: top;\n    }\n\n    .dataframe thead th {\n        text-align: right;\n    }\n</style>\n<table border=\"1\" class=\"dataframe\">\n  <thead>\n    <tr style=\"text-align: right;\">\n      <th></th>\n      <th>SalePrice</th>\n      <th>Size</th>\n      <th>Beds</th>\n      <th>Baths</th>\n      <th>Num_Garage</th>\n      <th>Year</th>\n      <th>Highway</th>\n      <th>Aircondition</th>\n      <th>SwimmingPool</th>\n    </tr>\n  </thead>\n  <tbody>\n    <tr>\n      <th>0</th>\n      <td>360.0</td>\n      <td>3.032</td>\n      <td>4</td>\n      <td>4</td>\n      <td>2</td>\n      <td>1972</td>\n      <td>no</td>\n      <td>yes</td>\n      <td>no</td>\n    </tr>\n    <tr>\n      <th>1</th>\n      <td>340.0</td>\n      <td>2.058</td>\n      <td>4</td>\n      <td>2</td>\n      <td>2</td>\n      <td>1976</td>\n      <td>no</td>\n      <td>yes</td>\n      <td>no</td>\n    </tr>\n    <tr>\n      <th>2</th>\n      <td>250.0</td>\n      <td>1.780</td>\n      <td>4</td>\n      <td>3</td>\n      <td>2</td>\n      <td>1980</td>\n      <td>no</td>\n      <td>yes</td>\n      <td>no</td>\n    </tr>\n    <tr>\n      <th>3</th>\n      <td>205.5</td>\n      <td>1.638</td>\n      <td>4</td>\n      <td>2</td>\n      <td>2</td>\n      <td>1963</td>\n      <td>no</td>\n      <td>yes</td>\n      <td>no</td>\n    </tr>\n    <tr>\n      <th>4</th>\n      <td>275.5</td>\n      <td>2.196</td>\n      <td>4</td>\n      <td>3</td>\n      <td>2</td>\n      <td>1968</td>\n      <td>no</td>\n      <td>yes</td>\n      <td>no</td>\n    </tr>\n  </tbody>\n</table>\n</div>"
     },
     "execution_count": 2,
     "metadata": {},
     "output_type": "execute_result"
    }
   ],
   "source": [
    "# load the dataset\n",
    "df = pd.read_csv('dataset/Realstate.csv')\n",
    "df.head()"
   ],
   "metadata": {
    "collapsed": false,
    "pycharm": {
     "name": "#%%\n"
    }
   }
  },
  {
   "cell_type": "code",
   "execution_count": 3,
   "outputs": [
    {
     "data": {
      "text/plain": "   SalePrice   Size  Beds  Baths  Num_Garage  Year  Highway  Aircondition  \\\n0      360.0  3.032     4      4           2  1972        0             1   \n1      340.0  2.058     4      2           2  1976        0             1   \n2      250.0  1.780     4      3           2  1980        0             1   \n3      205.5  1.638     4      2           2  1963        0             1   \n4      275.5  2.196     4      3           2  1968        0             1   \n\n   SwimmingPool  \n0             0  \n1             0  \n2             0  \n3             0  \n4             0  ",
      "text/html": "<div>\n<style scoped>\n    .dataframe tbody tr th:only-of-type {\n        vertical-align: middle;\n    }\n\n    .dataframe tbody tr th {\n        vertical-align: top;\n    }\n\n    .dataframe thead th {\n        text-align: right;\n    }\n</style>\n<table border=\"1\" class=\"dataframe\">\n  <thead>\n    <tr style=\"text-align: right;\">\n      <th></th>\n      <th>SalePrice</th>\n      <th>Size</th>\n      <th>Beds</th>\n      <th>Baths</th>\n      <th>Num_Garage</th>\n      <th>Year</th>\n      <th>Highway</th>\n      <th>Aircondition</th>\n      <th>SwimmingPool</th>\n    </tr>\n  </thead>\n  <tbody>\n    <tr>\n      <th>0</th>\n      <td>360.0</td>\n      <td>3.032</td>\n      <td>4</td>\n      <td>4</td>\n      <td>2</td>\n      <td>1972</td>\n      <td>0</td>\n      <td>1</td>\n      <td>0</td>\n    </tr>\n    <tr>\n      <th>1</th>\n      <td>340.0</td>\n      <td>2.058</td>\n      <td>4</td>\n      <td>2</td>\n      <td>2</td>\n      <td>1976</td>\n      <td>0</td>\n      <td>1</td>\n      <td>0</td>\n    </tr>\n    <tr>\n      <th>2</th>\n      <td>250.0</td>\n      <td>1.780</td>\n      <td>4</td>\n      <td>3</td>\n      <td>2</td>\n      <td>1980</td>\n      <td>0</td>\n      <td>1</td>\n      <td>0</td>\n    </tr>\n    <tr>\n      <th>3</th>\n      <td>205.5</td>\n      <td>1.638</td>\n      <td>4</td>\n      <td>2</td>\n      <td>2</td>\n      <td>1963</td>\n      <td>0</td>\n      <td>1</td>\n      <td>0</td>\n    </tr>\n    <tr>\n      <th>4</th>\n      <td>275.5</td>\n      <td>2.196</td>\n      <td>4</td>\n      <td>3</td>\n      <td>2</td>\n      <td>1968</td>\n      <td>0</td>\n      <td>1</td>\n      <td>0</td>\n    </tr>\n  </tbody>\n</table>\n</div>"
     },
     "execution_count": 3,
     "metadata": {},
     "output_type": "execute_result"
    }
   ],
   "source": [
    "#transform the yes/no column into 1/0\n",
    "df.Highway.replace(('yes', 'no'), (1, 0), inplace=True)\n",
    "df.Aircondition.replace(('yes', 'no'), (1, 0), inplace=True)\n",
    "df.SwimmingPool.replace(('yes', 'no'), (1, 0), inplace=True)\n",
    "df.head()"
   ],
   "metadata": {
    "collapsed": false,
    "pycharm": {
     "name": "#%%\n"
    }
   }
  },
  {
   "cell_type": "code",
   "execution_count": 4,
   "outputs": [],
   "source": [
    "#define features and target\n",
    "features = df[['Size', 'Highway']]\n",
    "target = df['SalePrice']"
   ],
   "metadata": {
    "collapsed": false,
    "pycharm": {
     "name": "#%%\n"
    }
   }
  },
  {
   "cell_type": "code",
   "execution_count": 5,
   "outputs": [
    {
     "data": {
      "text/plain": "<Figure size 432x288 with 1 Axes>",
      "image/png": "[encoded data removed]"
     },
     "metadata": {},
     "output_type": "display_data"
    }
   ],
   "source": [
    "#plot the rsquared values in function of the test size\n",
    "test_size = [0.1, 0.2, 0.3, 0.4, 0.5, 0.6, 0.7, 0.8, 0.9]\n",
    "r2_values = []\n",
    "for i in test_size:\n",
    "    X_train, X_test, y_train, y_test = train_test_split(features, target, test_size=i)\n",
    "    regressor = DecisionTreeRegressor()\n",
    "    regressor.fit(X_train, y_train)\n",
    "    y_pred = regressor.predict(X_test)\n",
    "    r2_values.append(r2_score(y_test, y_pred))\n",
    "\n",
    "plt.plot(test_size, r2_values)\n",
    "plt.xlabel('Test size')\n",
    "plt.ylabel('R2 score')\n",
    "plt.show()"
   ],
   "metadata": {
    "collapsed": false,
    "pycharm": {
     "name": "#%%\n"
    }
   }
  },
  {
   "cell_type": "code",
   "execution_count": 6,
   "outputs": [],
   "source": [
    "#initialize the train set and test set using test size = 0.4\n",
    "X_train, X_test, y_train, y_test = train_test_split(features, target, test_size=0.2)"
   ],
   "metadata": {
    "collapsed": false,
    "pycharm": {
     "name": "#%%\n"
    }
   }
  },
  {
   "cell_type": "code",
   "execution_count": 7,
   "outputs": [
    {
     "data": {
      "text/plain": "<Figure size 432x288 with 1 Axes>",
      "image/png": "[encoded data removed]"
     },
     "metadata": {},
     "output_type": "display_data"
    }
   ],
   "source": [
    "#initialize the tree regressor model\n",
    "\n",
    "regressor = DecisionTreeRegressor(random_state=0)\n",
    "\n",
    "#Loop over a range of different maximum depths\n",
    "r2_score_list = []\n",
    "for max_depth in range(1, 20):\n",
    "    regressor.set_params(max_depth=max_depth)\n",
    "    regressor.fit(X_train, y_train)\n",
    "    y_pred = regressor.predict(X_test)\n",
    "    r2_score_list.append(r2_score(y_test, y_pred))\n",
    "\n",
    "#plot the results\n",
    "plt.plot(range(1, 20), r2_score_list)\n",
    "plt.xlabel('Max Depth')\n",
    "plt.ylabel('R2 Score')\n",
    "plt.show()"
   ],
   "metadata": {
    "collapsed": false,
    "pycharm": {
     "name": "#%%\n"
    }
   }
  },
  {
   "cell_type": "code",
   "execution_count": 8,
   "outputs": [
    {
     "name": "stdout",
     "output_type": "stream",
     "text": [
      "The best R2 scrore with a random forest is: 0.6147365007590775\n"
     ]
    }
   ],
   "source": [
    "#initialize the tree regressor model with max_depth = 5\n",
    "regressor = DecisionTreeRegressor(random_state=0, max_depth=4)\n",
    "regressor.fit(X_train, y_train)\n",
    "y_pred = regressor.predict(X_test)\n",
    "r2_score(y_test, y_pred)\n",
    "print('The best R2 scrore with a random forest is:',r2_score(y_test, y_pred))"
   ],
   "metadata": {
    "collapsed": false,
    "pycharm": {
     "name": "#%%\n"
    }
   }
  },
  {
   "cell_type": "code",
   "execution_count": 9,
   "outputs": [
    {
     "data": {
      "text/plain": "<Figure size 432x288 with 1 Axes>",
      "image/png": "[encoded data removed]"
     },
     "metadata": {},
     "output_type": "display_data"
    }
   ],
   "source": [
    "#plot the actual vs predicted\n",
    "plt.scatter(X_test['Size'], y_test)\n",
    "plt.scatter(X_test['Size'], y_pred, color='red')\n",
    "plt.xlabel('Size')\n",
    "plt.legend(['Actual', 'Predicted'])\n",
    "plt.ylabel('SalePrice')\n",
    "plt.show()"
   ],
   "metadata": {
    "collapsed": false,
    "pycharm": {
     "name": "#%%\n"
    }
   }
  },
  {
   "cell_type": "markdown",
   "source": [
    "## ANN Regressor"
   ],
   "metadata": {
    "collapsed": false,
    "pycharm": {
     "name": "#%% md\n"
    }
   }
  },
  {
   "cell_type": "code",
   "execution_count": 10,
   "outputs": [],
   "source": [
    "# Importing the dataset\n",
    "import pandas as pd\n",
    "dataset = pd.read_csv('dataset/Realstate.csv')\n",
    "dataset.head()\n",
    "\n",
    "# replace yes with 1 and no with 0\n",
    "dataset.Highway.replace(('yes', 'no'), (1, 0), inplace=True)\n",
    "dataset.Aircondition.replace(('yes', 'no'), (1, 0), inplace=True)\n",
    "dataset.SwimmingPool.replace(('yes', 'no'), (1, 0), inplace=True)\n",
    "\n",
    "# Splitting the dataset into the Training set and Test set\n",
    "from sklearn.model_selection import train_test_split\n",
    "X = dataset.iloc[:, :-1].values\n",
    "y = dataset.iloc[:, -1].values\n",
    "X_train, X_test, y_train, y_test = train_test_split(X, y, test_size=0.2, random_state=0)"
   ],
   "metadata": {
    "collapsed": false,
    "pycharm": {
     "name": "#%%\n"
    }
   }
  },
  {
   "cell_type": "code",
   "execution_count": 11,
   "outputs": [],
   "source": [
    "# Feature Scaling\n",
    "from sklearn.preprocessing import StandardScaler\n",
    "\n",
    "sc = StandardScaler()\n",
    "X_train = sc.fit_transform(X_train)\n",
    "X_test = sc.transform(X_test)"
   ],
   "metadata": {
    "collapsed": false,
    "pycharm": {
     "name": "#%%\n"
    }
   }
  },
  {
   "cell_type": "code",
   "execution_count": 12,
   "outputs": [
    {
     "name": "stdout",
     "output_type": "stream",
     "text": [
      "Init Plugin\n",
      "Init Graph Optimizer\n",
      "Init Kernel\n",
      "Metal device set to: Apple M1\n"
     ]
    },
    {
     "name": "stderr",
     "output_type": "stream",
     "text": [
      "2022-04-26 14:26:39.316214: I tensorflow/core/common_runtime/pluggable_device/pluggable_device_factory.cc:305] Could not identify NUMA node of platform GPU ID 0, defaulting to 0. Your kernel may not have been built with NUMA support.\n",
      "2022-04-26 14:26:39.316336: I tensorflow/core/common_runtime/pluggable_device/pluggable_device_factory.cc:271] Created TensorFlow device (/job:localhost/replica:0/task:0/device:GPU:0 with 0 MB memory) -> physical PluggableDevice (device: 0, name: METAL, pci bus id: <undefined>)\n",
      "2022-04-26 14:26:39.496162: I tensorflow/compiler/mlir/mlir_graph_optimization_pass.cc:176] None of the MLIR Optimization Passes are enabled (registered 2)\n",
      "2022-04-26 14:26:39.498730: W tensorflow/core/platform/profile_utils/cpu_utils.cc:128] Failed to get CPU frequency: 0 Hz\n"
     ]
    },
    {
     "name": "stdout",
     "output_type": "stream",
     "text": [
      "Epoch 1/100\n"
     ]
    },
    {
     "name": "stderr",
     "output_type": "stream",
     "text": [
      "2022-04-26 14:26:45.960334: I tensorflow/core/grappler/optimizers/custom_graph_optimizer_registry.cc:112] Plugin optimizer for device_type GPU is enabled.\n"
     ]
    },
    {
     "name": "stdout",
     "output_type": "stream",
     "text": [
      "42/42 [==============================] - 8s 6ms/step - loss: 0.6878 - accuracy: 0.8490\n",
      "Epoch 2/100\n",
      "42/42 [==============================] - 0s 6ms/step - loss: 0.6595 - accuracy: 0.9465\n",
      "Epoch 3/100\n",
      "42/42 [==============================] - 0s 6ms/step - loss: 0.6017 - accuracy: 0.9532\n",
      "Epoch 4/100\n",
      "42/42 [==============================] - 0s 6ms/step - loss: 0.5030 - accuracy: 0.9429\n",
      "Epoch 5/100\n",
      "42/42 [==============================] - 0s 6ms/step - loss: 0.3854 - accuracy: 0.9393\n",
      "Epoch 6/100\n",
      "42/42 [==============================] - 0s 6ms/step - loss: 0.3012 - accuracy: 0.9357\n",
      "Epoch 7/100\n",
      "42/42 [==============================] - 0s 6ms/step - loss: 0.2748 - accuracy: 0.9286\n",
      "Epoch 8/100\n",
      "42/42 [==============================] - 0s 6ms/step - loss: 0.2388 - accuracy: 0.9381\n",
      "Epoch 9/100\n",
      "42/42 [==============================] - 0s 6ms/step - loss: 0.1833 - accuracy: 0.9580\n",
      "Epoch 10/100\n",
      "42/42 [==============================] - 0s 7ms/step - loss: 0.2534 - accuracy: 0.9241\n",
      "Epoch 11/100\n",
      "42/42 [==============================] - 0s 6ms/step - loss: 0.2156 - accuracy: 0.9380\n",
      "Epoch 12/100\n",
      "42/42 [==============================] - 0s 7ms/step - loss: 0.2597 - accuracy: 0.9176\n",
      "Epoch 13/100\n",
      "42/42 [==============================] - 0s 6ms/step - loss: 0.2019 - accuracy: 0.9436\n",
      "Epoch 14/100\n",
      "42/42 [==============================] - 0s 6ms/step - loss: 0.1785 - accuracy: 0.9570\n",
      "Epoch 15/100\n",
      "42/42 [==============================] - 0s 6ms/step - loss: 0.1793 - accuracy: 0.9533\n",
      "Epoch 16/100\n",
      "42/42 [==============================] - 0s 7ms/step - loss: 0.1997 - accuracy: 0.9448\n",
      "Epoch 17/100\n",
      "42/42 [==============================] - 0s 6ms/step - loss: 0.1971 - accuracy: 0.9413\n",
      "Epoch 18/100\n",
      "42/42 [==============================] - 0s 6ms/step - loss: 0.2007 - accuracy: 0.9437\n",
      "Epoch 19/100\n",
      "42/42 [==============================] - 0s 6ms/step - loss: 0.2078 - accuracy: 0.9330\n",
      "Epoch 20/100\n",
      "42/42 [==============================] - 0s 6ms/step - loss: 0.1753 - accuracy: 0.9520\n",
      "Epoch 21/100\n",
      "42/42 [==============================] - 0s 6ms/step - loss: 0.1989 - accuracy: 0.9442\n",
      "Epoch 22/100\n",
      "42/42 [==============================] - 0s 6ms/step - loss: 0.1663 - accuracy: 0.9518\n",
      "Epoch 23/100\n",
      "42/42 [==============================] - 0s 6ms/step - loss: 0.1964 - accuracy: 0.9392\n",
      "Epoch 24/100\n",
      "42/42 [==============================] - 0s 6ms/step - loss: 0.1873 - accuracy: 0.9457\n",
      "Epoch 25/100\n",
      "42/42 [==============================] - 0s 6ms/step - loss: 0.2315 - accuracy: 0.9261\n",
      "Epoch 26/100\n",
      "42/42 [==============================] - 0s 6ms/step - loss: 0.2026 - accuracy: 0.9373\n",
      "Epoch 27/100\n",
      "42/42 [==============================] - 0s 6ms/step - loss: 0.2470 - accuracy: 0.9165\n",
      "Epoch 28/100\n",
      "42/42 [==============================] - 0s 6ms/step - loss: 0.1982 - accuracy: 0.9394\n",
      "Epoch 29/100\n",
      "42/42 [==============================] - 0s 6ms/step - loss: 0.2165 - accuracy: 0.9287\n",
      "Epoch 30/100\n",
      "42/42 [==============================] - 0s 6ms/step - loss: 0.1951 - accuracy: 0.9419\n",
      "Epoch 31/100\n",
      "42/42 [==============================] - 0s 6ms/step - loss: 0.1732 - accuracy: 0.9514\n",
      "Epoch 32/100\n",
      "42/42 [==============================] - 0s 6ms/step - loss: 0.1771 - accuracy: 0.9463\n",
      "Epoch 33/100\n",
      "42/42 [==============================] - 0s 6ms/step - loss: 0.2497 - accuracy: 0.9199\n",
      "Epoch 34/100\n",
      "42/42 [==============================] - 0s 6ms/step - loss: 0.2070 - accuracy: 0.9286\n",
      "Epoch 35/100\n",
      "42/42 [==============================] - 0s 6ms/step - loss: 0.1668 - accuracy: 0.9490\n",
      "Epoch 36/100\n",
      "42/42 [==============================] - 0s 6ms/step - loss: 0.2157 - accuracy: 0.9306\n",
      "Epoch 37/100\n",
      "42/42 [==============================] - 0s 6ms/step - loss: 0.1967 - accuracy: 0.9357\n",
      "Epoch 38/100\n",
      "42/42 [==============================] - 0s 6ms/step - loss: 0.1709 - accuracy: 0.9459\n",
      "Epoch 39/100\n",
      "42/42 [==============================] - 0s 6ms/step - loss: 0.1948 - accuracy: 0.9377\n",
      "Epoch 40/100\n",
      "42/42 [==============================] - 0s 7ms/step - loss: 0.1590 - accuracy: 0.9585\n",
      "Epoch 41/100\n",
      "42/42 [==============================] - 0s 6ms/step - loss: 0.1862 - accuracy: 0.9385\n",
      "Epoch 42/100\n",
      "42/42 [==============================] - 0s 6ms/step - loss: 0.1776 - accuracy: 0.9422\n",
      "Epoch 43/100\n",
      "42/42 [==============================] - 0s 6ms/step - loss: 0.1782 - accuracy: 0.9418\n",
      "Epoch 44/100\n",
      "42/42 [==============================] - 0s 6ms/step - loss: 0.1588 - accuracy: 0.9539\n",
      "Epoch 45/100\n",
      "42/42 [==============================] - 0s 6ms/step - loss: 0.1797 - accuracy: 0.9408\n",
      "Epoch 46/100\n",
      "42/42 [==============================] - 0s 6ms/step - loss: 0.1556 - accuracy: 0.9516\n",
      "Epoch 47/100\n",
      "42/42 [==============================] - 0s 6ms/step - loss: 0.1556 - accuracy: 0.9524\n",
      "Epoch 48/100\n",
      "42/42 [==============================] - 0s 6ms/step - loss: 0.1699 - accuracy: 0.9393\n",
      "Epoch 49/100\n",
      "42/42 [==============================] - 0s 6ms/step - loss: 0.1866 - accuracy: 0.9370\n",
      "Epoch 50/100\n",
      "42/42 [==============================] - 0s 6ms/step - loss: 0.1993 - accuracy: 0.9340\n",
      "Epoch 51/100\n",
      "42/42 [==============================] - 0s 6ms/step - loss: 0.1942 - accuracy: 0.9298\n",
      "Epoch 52/100\n",
      "42/42 [==============================] - 0s 6ms/step - loss: 0.1706 - accuracy: 0.9391\n",
      "Epoch 53/100\n",
      "42/42 [==============================] - 0s 6ms/step - loss: 0.2191 - accuracy: 0.9231\n",
      "Epoch 54/100\n",
      "42/42 [==============================] - 0s 6ms/step - loss: 0.1953 - accuracy: 0.9365\n",
      "Epoch 55/100\n",
      "42/42 [==============================] - 0s 6ms/step - loss: 0.1626 - accuracy: 0.9460\n",
      "Epoch 56/100\n",
      "42/42 [==============================] - 0s 6ms/step - loss: 0.2155 - accuracy: 0.9292\n",
      "Epoch 57/100\n",
      "42/42 [==============================] - 0s 7ms/step - loss: 0.1819 - accuracy: 0.9359\n",
      "Epoch 58/100\n",
      "42/42 [==============================] - 0s 6ms/step - loss: 0.1973 - accuracy: 0.9337\n",
      "Epoch 59/100\n",
      "42/42 [==============================] - 0s 6ms/step - loss: 0.1378 - accuracy: 0.9594\n",
      "Epoch 60/100\n",
      "42/42 [==============================] - 0s 6ms/step - loss: 0.1365 - accuracy: 0.9594\n",
      "Epoch 61/100\n",
      "42/42 [==============================] - 0s 6ms/step - loss: 0.1855 - accuracy: 0.9332\n",
      "Epoch 62/100\n",
      "42/42 [==============================] - 0s 6ms/step - loss: 0.1611 - accuracy: 0.9512\n",
      "Epoch 63/100\n",
      "42/42 [==============================] - 0s 6ms/step - loss: 0.1747 - accuracy: 0.9457\n",
      "Epoch 64/100\n",
      "42/42 [==============================] - 0s 6ms/step - loss: 0.1577 - accuracy: 0.9511\n",
      "Epoch 65/100\n",
      "42/42 [==============================] - 0s 6ms/step - loss: 0.1818 - accuracy: 0.9373\n",
      "Epoch 66/100\n",
      "42/42 [==============================] - 0s 6ms/step - loss: 0.1598 - accuracy: 0.9439\n",
      "Epoch 67/100\n",
      "42/42 [==============================] - 0s 6ms/step - loss: 0.1733 - accuracy: 0.9429\n",
      "Epoch 68/100\n",
      "42/42 [==============================] - 0s 6ms/step - loss: 0.1929 - accuracy: 0.9330\n",
      "Epoch 69/100\n",
      "42/42 [==============================] - 0s 6ms/step - loss: 0.1615 - accuracy: 0.9464\n",
      "Epoch 70/100\n",
      "42/42 [==============================] - 0s 6ms/step - loss: 0.1521 - accuracy: 0.9513\n",
      "Epoch 71/100\n",
      "42/42 [==============================] - 0s 6ms/step - loss: 0.1941 - accuracy: 0.9341\n",
      "Epoch 72/100\n",
      "42/42 [==============================] - 0s 6ms/step - loss: 0.1570 - accuracy: 0.9521\n",
      "Epoch 73/100\n",
      "42/42 [==============================] - 0s 6ms/step - loss: 0.2106 - accuracy: 0.9239\n",
      "Epoch 74/100\n",
      "42/42 [==============================] - 0s 6ms/step - loss: 0.1923 - accuracy: 0.9332\n",
      "Epoch 75/100\n",
      "42/42 [==============================] - 0s 6ms/step - loss: 0.1572 - accuracy: 0.9488\n",
      "Epoch 76/100\n",
      "42/42 [==============================] - 0s 6ms/step - loss: 0.2053 - accuracy: 0.9250\n",
      "Epoch 77/100\n",
      "42/42 [==============================] - 0s 6ms/step - loss: 0.1644 - accuracy: 0.9361\n",
      "Epoch 78/100\n",
      "42/42 [==============================] - 0s 6ms/step - loss: 0.1987 - accuracy: 0.9270\n",
      "Epoch 79/100\n",
      "42/42 [==============================] - 0s 6ms/step - loss: 0.1697 - accuracy: 0.9388\n",
      "Epoch 80/100\n",
      "42/42 [==============================] - 0s 6ms/step - loss: 0.1605 - accuracy: 0.9499\n",
      "Epoch 81/100\n",
      "42/42 [==============================] - 0s 6ms/step - loss: 0.1728 - accuracy: 0.9413\n",
      "Epoch 82/100\n",
      "42/42 [==============================] - 0s 6ms/step - loss: 0.1781 - accuracy: 0.9355\n",
      "Epoch 83/100\n",
      "42/42 [==============================] - 0s 6ms/step - loss: 0.1918 - accuracy: 0.9325\n",
      "Epoch 84/100\n",
      "42/42 [==============================] - 0s 6ms/step - loss: 0.1450 - accuracy: 0.9476\n",
      "Epoch 85/100\n",
      "42/42 [==============================] - 0s 6ms/step - loss: 0.1972 - accuracy: 0.9270\n",
      "Epoch 86/100\n",
      "42/42 [==============================] - 0s 6ms/step - loss: 0.1990 - accuracy: 0.9277\n",
      "Epoch 87/100\n",
      "42/42 [==============================] - 0s 6ms/step - loss: 0.1453 - accuracy: 0.9486\n",
      "Epoch 88/100\n",
      "42/42 [==============================] - 0s 6ms/step - loss: 0.1390 - accuracy: 0.9528\n",
      "Epoch 89/100\n",
      "42/42 [==============================] - 0s 6ms/step - loss: 0.1686 - accuracy: 0.9363\n",
      "Epoch 90/100\n",
      "42/42 [==============================] - 0s 6ms/step - loss: 0.1656 - accuracy: 0.9380\n",
      "Epoch 91/100\n",
      "42/42 [==============================] - 0s 6ms/step - loss: 0.1694 - accuracy: 0.9443\n",
      "Epoch 92/100\n",
      "42/42 [==============================] - 0s 6ms/step - loss: 0.1776 - accuracy: 0.9283\n",
      "Epoch 93/100\n",
      "42/42 [==============================] - 0s 6ms/step - loss: 0.1393 - accuracy: 0.9570\n",
      "Epoch 94/100\n",
      "42/42 [==============================] - 0s 6ms/step - loss: 0.1353 - accuracy: 0.9490\n",
      "Epoch 95/100\n",
      "42/42 [==============================] - 0s 6ms/step - loss: 0.1553 - accuracy: 0.9467\n",
      "Epoch 96/100\n",
      "42/42 [==============================] - 0s 6ms/step - loss: 0.1363 - accuracy: 0.9485\n",
      "Epoch 97/100\n",
      "42/42 [==============================] - 0s 6ms/step - loss: 0.1507 - accuracy: 0.9501\n",
      "Epoch 98/100\n",
      "42/42 [==============================] - 0s 6ms/step - loss: 0.1825 - accuracy: 0.9324\n",
      "Epoch 99/100\n",
      "42/42 [==============================] - 0s 6ms/step - loss: 0.1692 - accuracy: 0.9375\n",
      "Epoch 100/100\n",
      "42/42 [==============================] - 0s 6ms/step - loss: 0.1537 - accuracy: 0.9466\n"
     ]
    },
    {
     "data": {
      "text/plain": "<keras.callbacks.History at 0x145b136d0>"
     },
     "execution_count": 12,
     "metadata": {},
     "output_type": "execute_result"
    }
   ],
   "source": [
    "# create the ANN\n",
    "from keras.models import Sequential\n",
    "from keras.layers import Dense\n",
    "\n",
    "model = Sequential()\n",
    "model.add(Dense(units=6, kernel_initializer='uniform', activation='relu', input_dim=8))\n",
    "model.add(Dense(units=6, kernel_initializer='uniform', activation='relu'))\n",
    "model.add(Dense(units=1, kernel_initializer='uniform', activation='sigmoid'))\n",
    "model.compile(optimizer='adam', loss='binary_crossentropy', metrics=['accuracy'])\n",
    "model.fit(X_train, y_train, batch_size=10, epochs=100)\n"
   ],
   "metadata": {
    "collapsed": false,
    "pycharm": {
     "name": "#%%\n"
    }
   }
  },
  {
   "cell_type": "code",
   "execution_count": 13,
   "outputs": [
    {
     "name": "stderr",
     "output_type": "stream",
     "text": [
      "2022-04-26 14:27:12.527332: I tensorflow/core/grappler/optimizers/custom_graph_optimizer_registry.cc:112] Plugin optimizer for device_type GPU is enabled.\n"
     ]
    },
    {
     "name": "stdout",
     "output_type": "stream",
     "text": [
      "4/4 [==============================] - 0s 9ms/step - loss: 0.3666 - accuracy: 0.8952\n",
      "Accuracy of ANN is:  0.8952381014823914\n"
     ]
    },
    {
     "name": "stderr",
     "output_type": "stream",
     "text": [
      "2022-04-26 14:27:12.731577: I tensorflow/core/grappler/optimizers/custom_graph_optimizer_registry.cc:112] Plugin optimizer for device_type GPU is enabled.\n"
     ]
    }
   ],
   "source": [
    "# Predicting the Test set results\n",
    "y_pred = model.predict(X_test)\n",
    "\n",
    "#print the accuracy\n",
    "print('Accuracy of ANN is: ', model.evaluate(X_test, y_test)[1])"
   ],
   "metadata": {
    "collapsed": false,
    "pycharm": {
     "name": "#%%\n"
    }
   }
  },
  {
   "cell_type": "markdown",
   "source": [
    "## Conclusion\n",
    "\n",
    "The linear regression achieves at its best 0.937 accuracy at its best.\n",
    "The RF regressor achieves 0.633 accuracy at its best.\n",
    "The ANN achieves 0.895 accuracy at its best.\n",
    "\n",
    "The simplest technic looks like precise. The Linear model is the most accurate.\n",
    "But the ANN allow to use every variable in the model without the ranking of combinations.\n",
    "\n",
    "There is a lot of combinations that can be used in the model. Thus, the ANN is the most robust technic."
   ],
   "metadata": {
    "collapsed": false,
    "pycharm": {
     "name": "#%% md\n"
    }
   }
  }
 ],
 "metadata": {
  "kernelspec": {
   "display_name": "Python 3",
   "language": "python",
   "name": "python3"
  },
  "language_info": {
   "codemirror_mode": {
    "name": "ipython",
    "version": 2
   },
   "file_extension": ".py",
   "mimetype": "text/x-python",
   "name": "python",
   "nbconvert_exporter": "python",
   "pygments_lexer": "ipython2",
   "version": "2.7.6"
  }
 },
 "nbformat": 4,
 "nbformat_minor": 0
}